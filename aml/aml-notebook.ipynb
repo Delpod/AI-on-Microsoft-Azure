{
  "cells": [
    {
      "cell_type": "markdown",
      "source": [
        "# Azure AutoML\n",
        "\n",
        "Stworzony model mógłby posłużyć do oceny czekolany na podstawie kilku danych, dzięki czemu nie musielibyśmy kupować czekolany niskiej jakości.\n",
        "\n",
        "### Dane\n",
        "\n",
        "Do wykonania eksperymentu użyty został zbiór danych \"Chocolate Bar Ratings\" pobrany z serwisu [Kaggle](https://www.kaggle.com/rtatman/chocolate-bar-ratings). Przed wykonaniem eksperymentu zbiór danych został dodany w usłudze [Azure Machine Learning](https://ml.azure.com). Użyty został model regresji dla kolumny _Rating_. Wybrałem model regresji ponieważ niektóre wartości nie znajdują się w bazie jak np 1.25, 2.0, a wartości te mogłyby być użyte. Aby porównać wartości z wartościami faktycznymi na końcu utworzyłem funkcję, która zebrane wartości zaokrągląga podobnie do wartości kolumny _Rating_ do najbliższej wartości 0.25. Na końcu znajduje się porównanie wyników zarówno bez obliczenia tego jak i po.\n",
        "\n",
        "### Informacje\n",
        "\n",
        "W ćwiuczeniu znajdują się proste do zrozumienia opisy przed fragmentami kodu oraz techniczne komentarze, które jeśli to wymagane dokładnie opisują cel kodu."
      ],
      "metadata": {
        "nteract": {
          "transient": {
            "deleting": false
          }
        }
      }
    },
    {
      "cell_type": "markdown",
      "source": [
        "# Kroki\n",
        "\n",
        "### Sprawdzenie czy moduł załadował się poprawnie"
      ],
      "metadata": {
        "nteract": {
          "transient": {
            "deleting": false
          }
        }
      }
    },
    {
      "cell_type": "code",
      "source": [
        "import azureml.core as aml\n",
        "\n",
        "# Wypisz wersję używanego SDK AzureML\n",
        "print(\"SDK version:\", aml.VERSION)"
      ],
      "outputs": [
        {
          "output_type": "stream",
          "name": "stdout",
          "text": [
            "SDK version: 1.20.0\n"
          ]
        }
      ],
      "execution_count": 2,
      "metadata": {
        "collapsed": true,
        "jupyter": {
          "source_hidden": false,
          "outputs_hidden": false
        },
        "nteract": {
          "transient": {
            "deleting": false
          }
        },
        "gather": {
          "logged": 1611702202000
        }
      }
    },
    {
      "cell_type": "markdown",
      "source": [
        "### Pobieranie workspace'u"
      ],
      "metadata": {
        "nteract": {
          "transient": {
            "deleting": false
          }
        }
      }
    },
    {
      "cell_type": "code",
      "source": [
        "# Pobierz workspace z pliku konfiguracyjnego, w trakcie wykonywania tego kodu, może być wymagane zalogowanie się do konta Azure\n",
        "ws = aml.Workspace.from_config()"
      ],
      "outputs": [
        {
          "output_type": "stream",
          "name": "stdout",
          "text": [
            "Performing interactive authentication. Please follow the instructions on the terminal.\n",
            "To sign in, use a web browser to open the page https://microsoft.com/devicelogin and enter the code DWANXHB9Q to authenticate.\n",
            "You have logged in. Now let us find all the subscriptions to which you have access...\n",
            "Interactive authentication successfully completed.\n"
          ]
        }
      ],
      "execution_count": 3,
      "metadata": {
        "collapsed": true,
        "jupyter": {
          "source_hidden": false,
          "outputs_hidden": false
        },
        "nteract": {
          "transient": {
            "deleting": false
          }
        },
        "gather": {
          "logged": 1611702269700
        }
      }
    },
    {
      "cell_type": "markdown",
      "source": [
        "### Pobieranie i wyświetlanie użytego zbioru danych oraz podstawowych własności zbioru"
      ],
      "metadata": {
        "nteract": {
          "transient": {
            "deleting": false
          }
        }
      }
    },
    {
      "cell_type": "code",
      "source": [
        "# Pobieranie zbioru danych z workspace'u, kod pochodzi z zakładki Consume w stworzonym zbiorze\n",
        "aml_dataset = aml.Dataset.get_by_name(ws, name='chocolate-ratings')\n",
        "\n",
        "# Zamiana zbioru na łatwiejszy do obsługiwania panadas\n",
        "full_df = aml_dataset.to_pandas_dataframe()\n",
        "# Wyświetlenie pierwszych wierszy zbioru\n",
        "full_df.head(5)"
      ],
      "outputs": [
        {
          "output_type": "execute_result",
          "execution_count": 4,
          "data": {
            "text/plain": "    Company Specific Bean Origin     REF  Review Date  Cocoa Percent  \\\n0  A. Morin          Agua Grande  1876.0       2016.0           63.0   \n1  A. Morin                Kpime  1676.0       2015.0           70.0   \n2  A. Morin               Atsane  1676.0       2015.0           70.0   \n3  A. Morin                Akata  1680.0       2015.0           70.0   \n4  A. Morin               Quilla  1704.0       2015.0           70.0   \n\n  Company Location  Rating Bean Type Broad Bean Origin Column12  \n0           France    3.75                    Sao Tome     None  \n1           France    2.75                        Togo     None  \n2           France    3.00                        Togo     None  \n3           France    3.50                        Togo     None  \n4           France    3.50                        Peru     None  ",
            "text/html": "<div>\n<style scoped>\n    .dataframe tbody tr th:only-of-type {\n        vertical-align: middle;\n    }\n\n    .dataframe tbody tr th {\n        vertical-align: top;\n    }\n\n    .dataframe thead th {\n        text-align: right;\n    }\n</style>\n<table border=\"1\" class=\"dataframe\">\n  <thead>\n    <tr style=\"text-align: right;\">\n      <th></th>\n      <th>Company</th>\n      <th>Specific Bean Origin</th>\n      <th>REF</th>\n      <th>Review Date</th>\n      <th>Cocoa Percent</th>\n      <th>Company Location</th>\n      <th>Rating</th>\n      <th>Bean Type</th>\n      <th>Broad Bean Origin</th>\n      <th>Column12</th>\n    </tr>\n  </thead>\n  <tbody>\n    <tr>\n      <th>0</th>\n      <td>A. Morin</td>\n      <td>Agua Grande</td>\n      <td>1876.0</td>\n      <td>2016.0</td>\n      <td>63.0</td>\n      <td>France</td>\n      <td>3.75</td>\n      <td></td>\n      <td>Sao Tome</td>\n      <td>None</td>\n    </tr>\n    <tr>\n      <th>1</th>\n      <td>A. Morin</td>\n      <td>Kpime</td>\n      <td>1676.0</td>\n      <td>2015.0</td>\n      <td>70.0</td>\n      <td>France</td>\n      <td>2.75</td>\n      <td></td>\n      <td>Togo</td>\n      <td>None</td>\n    </tr>\n    <tr>\n      <th>2</th>\n      <td>A. Morin</td>\n      <td>Atsane</td>\n      <td>1676.0</td>\n      <td>2015.0</td>\n      <td>70.0</td>\n      <td>France</td>\n      <td>3.00</td>\n      <td></td>\n      <td>Togo</td>\n      <td>None</td>\n    </tr>\n    <tr>\n      <th>3</th>\n      <td>A. Morin</td>\n      <td>Akata</td>\n      <td>1680.0</td>\n      <td>2015.0</td>\n      <td>70.0</td>\n      <td>France</td>\n      <td>3.50</td>\n      <td></td>\n      <td>Togo</td>\n      <td>None</td>\n    </tr>\n    <tr>\n      <th>4</th>\n      <td>A. Morin</td>\n      <td>Quilla</td>\n      <td>1704.0</td>\n      <td>2015.0</td>\n      <td>70.0</td>\n      <td>France</td>\n      <td>3.50</td>\n      <td></td>\n      <td>Peru</td>\n      <td>None</td>\n    </tr>\n  </tbody>\n</table>\n</div>"
          },
          "metadata": {}
        }
      ],
      "execution_count": 4,
      "metadata": {
        "collapsed": true,
        "jupyter": {
          "source_hidden": false,
          "outputs_hidden": false
        },
        "nteract": {
          "transient": {
            "deleting": false
          }
        },
        "gather": {
          "logged": 1611702930200
        }
      }
    },
    {
      "cell_type": "code",
      "source": [
        "# Wyświetl podstawowe statystyczne własności zbioru\n",
        "full_df.describe()"
      ],
      "outputs": [
        {
          "output_type": "execute_result",
          "execution_count": 5,
          "data": {
            "text/plain": "               REF  Review Date  Cocoa Percent       Rating\ncount  1793.000000  1794.000000    1788.000000  1794.000000\nmean   1035.508645  2011.977146      73.521812     3.225753\nstd     553.067457    14.958468      55.873409     1.738851\nmin       5.000000  1391.000000      42.000000     1.000000\n25%     576.000000  2010.000000      70.000000     3.000000\n50%    1069.000000  2013.000000      70.000000     3.250000\n75%    1502.000000  2015.000000      75.000000     3.500000\nmax    1952.000000  2017.000000    2014.000000    74.000000",
            "text/html": "<div>\n<style scoped>\n    .dataframe tbody tr th:only-of-type {\n        vertical-align: middle;\n    }\n\n    .dataframe tbody tr th {\n        vertical-align: top;\n    }\n\n    .dataframe thead th {\n        text-align: right;\n    }\n</style>\n<table border=\"1\" class=\"dataframe\">\n  <thead>\n    <tr style=\"text-align: right;\">\n      <th></th>\n      <th>REF</th>\n      <th>Review Date</th>\n      <th>Cocoa Percent</th>\n      <th>Rating</th>\n    </tr>\n  </thead>\n  <tbody>\n    <tr>\n      <th>count</th>\n      <td>1793.000000</td>\n      <td>1794.000000</td>\n      <td>1788.000000</td>\n      <td>1794.000000</td>\n    </tr>\n    <tr>\n      <th>mean</th>\n      <td>1035.508645</td>\n      <td>2011.977146</td>\n      <td>73.521812</td>\n      <td>3.225753</td>\n    </tr>\n    <tr>\n      <th>std</th>\n      <td>553.067457</td>\n      <td>14.958468</td>\n      <td>55.873409</td>\n      <td>1.738851</td>\n    </tr>\n    <tr>\n      <th>min</th>\n      <td>5.000000</td>\n      <td>1391.000000</td>\n      <td>42.000000</td>\n      <td>1.000000</td>\n    </tr>\n    <tr>\n      <th>25%</th>\n      <td>576.000000</td>\n      <td>2010.000000</td>\n      <td>70.000000</td>\n      <td>3.000000</td>\n    </tr>\n    <tr>\n      <th>50%</th>\n      <td>1069.000000</td>\n      <td>2013.000000</td>\n      <td>70.000000</td>\n      <td>3.250000</td>\n    </tr>\n    <tr>\n      <th>75%</th>\n      <td>1502.000000</td>\n      <td>2015.000000</td>\n      <td>75.000000</td>\n      <td>3.500000</td>\n    </tr>\n    <tr>\n      <th>max</th>\n      <td>1952.000000</td>\n      <td>2017.000000</td>\n      <td>2014.000000</td>\n      <td>74.000000</td>\n    </tr>\n  </tbody>\n</table>\n</div>"
          },
          "metadata": {}
        }
      ],
      "execution_count": 5,
      "metadata": {
        "collapsed": true,
        "jupyter": {
          "source_hidden": false,
          "outputs_hidden": false
        },
        "nteract": {
          "transient": {
            "deleting": false
          }
        },
        "gather": {
          "logged": 1611703067900
        }
      }
    },
    {
      "cell_type": "markdown",
      "source": [
        "### Usunięcie danych, które nie wpłyną, a nawet mogą zaburzyć ocenę"
      ],
      "metadata": {
        "nteract": {
          "transient": {
            "deleting": false
          }
        }
      }
    },
    {
      "cell_type": "code",
      "source": [
        "# Kolumna REF jest usuwana, ponieważ jest to tylko identyfikator wpisu\n",
        "# Kolumna Review Date jest usuwana, poniważ mimo iż wysokie oceny mogłby\n",
        "# być wstawiane częściej lub rzadziej w miarę czasu i model mógłby się lepiej nauczyć,\n",
        "# nie wpłynęło by to na lepszy dobór dla samych znaczących cech\n",
        "aml_dataset = aml_dataset.drop_columns(['REF', 'Review Date'])\n",
        "\n",
        "full_df = aml_dataset.to_pandas_dataframe()"
      ],
      "outputs": [],
      "execution_count": 7,
      "metadata": {
        "collapsed": true,
        "jupyter": {
          "source_hidden": false,
          "outputs_hidden": false
        },
        "nteract": {
          "transient": {
            "deleting": false
          }
        },
        "gather": {
          "logged": 1611703382800
        }
      }
    },
    {
      "cell_type": "markdown",
      "source": [
        "### Podział zbioru na dane treningowe i testowe\n",
        "\n",
        "Pozwoli to ocenić skuteczność klasyfikatora "
      ],
      "metadata": {
        "nteract": {
          "transient": {
            "deleting": false
          }
        }
      }
    },
    {
      "cell_type": "code",
      "source": [
        "# Podział zbioru na dane testowe i dane treningowe\n",
        "train_dataset, test_dataset = aml_dataset.random_split(0.7, seed=1337)"
      ],
      "outputs": [],
      "execution_count": 8,
      "metadata": {
        "collapsed": true,
        "jupyter": {
          "source_hidden": false,
          "outputs_hidden": false
        },
        "nteract": {
          "transient": {
            "deleting": false
          }
        },
        "gather": {
          "logged": 1611703485700
        }
      }
    },
    {
      "cell_type": "markdown",
      "source": [
        "### Wypisanie dostępnych jednostek obliczeniowych"
      ],
      "metadata": {
        "nteract": {
          "transient": {
            "deleting": false
          }
        }
      }
    },
    {
      "cell_type": "code",
      "source": [
        "from azureml.core.compute import ComputeTarget\n",
        "\n",
        "# Wypisanie dostępnych jednostek obliczeniowych\n",
        "ComputeTarget.list(ws)"
      ],
      "outputs": [
        {
          "output_type": "execute_result",
          "execution_count": 16,
          "data": {
            "text/plain": "[AmlCompute(workspace=Workspace.create(name='aml', subscription_id='416600d1-89d9-4ee5-9a25-a6ca53e3c797', resource_group='aml'), name=clusteraml, id=/subscriptions/416600d1-89d9-4ee5-9a25-a6ca53e3c797/resourceGroups/aml/providers/Microsoft.MachineLearningServices/workspaces/aml/computes/clusteraml, type=AmlCompute, provisioning_state=Succeeded, location=westeurope, tags=None),\n {\n   \"id\": \"/subscriptions/416600d1-89d9-4ee5-9a25-a6ca53e3c797/resourceGroups/aml/providers/Microsoft.MachineLearningServices/workspaces/aml/computes/instanceaml\",\n   \"name\": \"instanceaml\",\n   \"location\": \"westeurope\",\n   \"tags\": null,\n   \"properties\": {\n     \"description\": null,\n     \"computeType\": \"ComputeInstance\",\n     \"computeLocation\": \"westeurope\",\n     \"resourceId\": null,\n     \"provisioningErrors\": null,\n     \"provisioningState\": \"Succeeded\",\n     \"properties\": {\n       \"vmSize\": \"STANDARD_DS2_V2\",\n       \"applications\": [\n         {\n           \"displayName\": \"Jupyter\",\n           \"endpointUri\": \"https://instanceaml.westeurope.instances.azureml.ms\"\n         },\n         {\n           \"displayName\": \"Jupyter Lab\",\n           \"endpointUri\": \"https://instanceaml.westeurope.instances.azureml.ms/lab\"\n         },\n         {\n           \"displayName\": \"RStudio\",\n           \"endpointUri\": \"https://instanceaml-8787.westeurope.instances.azureml.ms\"\n         }\n       ],\n       \"connectivityEndpoints\": {\n         \"publicIpAddress\": \"20.71.84.92\",\n         \"privateIpAddress\": \"10.0.0.5\"\n       },\n       \"sshSettings\": {\n         \"sshPublicAccess\": \"Disabled\",\n         \"adminUserName\": \"azureuser\",\n         \"adminPublicKey\": null,\n         \"sshPort\": 4001\n       },\n       \"personalComputeInstanceSettings\": null,\n       \"subnet\": {\n         \"id\": null\n       },\n       \"errors\": []\n     },\n     \"status\": {\n       \"errors\": [],\n       \"creationTime\": \"2021-01-26T22:45:58.073321+00:00\",\n       \"createdBy\": {\n         \"userObjectId\": \"e1006891-b6b1-494c-9b1a-97558dcbbbd3\",\n         \"userTenantId\": \"3b50229c-cd78-4588-9bcf-97b7629e2f0f\",\n         \"userName\": \"Lubera Dawid (STUD)\"\n       },\n       \"modifiedTime\": \"2021-01-26T22:48:29.453149+00:00\",\n       \"state\": \"Running\",\n       \"vmSize\": \"STANDARD_DS2_V2\"\n     }\n   }\n }]"
          },
          "metadata": {}
        }
      ],
      "execution_count": 16,
      "metadata": {
        "collapsed": true,
        "jupyter": {
          "source_hidden": false,
          "outputs_hidden": false
        },
        "nteract": {
          "transient": {
            "deleting": false
          }
        },
        "gather": {
          "logged": 1611707054300
        }
      }
    },
    {
      "cell_type": "markdown",
      "source": [
        "### Znalezienie maszyny obliczeniowej do wykonania doświadczenia\n",
        "\n",
        "Do znalezienia maszyny używana jest jej nazwa znaleziona w poprzednim zadaniu.\n",
        "\n",
        "Czemu musimy ją znaleźć a nie mówimy, że ją mamy? To trochę tak, jak z rozmową przez telefon, wiemy jak się ktoś nazywa, ale jeśli chcemy z nim porozmawiać musimy najpierw zadzwonić."
      ],
      "metadata": {
        "nteract": {
          "transient": {
            "deleting": false
          }
        }
      }
    },
    {
      "cell_type": "code",
      "source": [
        "# Wpisujemy jedną z wartości która została znaleziona w poprzednim zadaniu, musi być to wartość z typem AmlCompute\n",
        "amlcompute_cluster_name = \"clusteraml\"\n",
        "\n",
        "found = False\n",
        "\n",
        "# Sprawdzamy czy nie było żadnej pomyłki w nazwie, czy typ się zgadza itp.\n",
        "\n",
        "cts = ws.compute_targets\n",
        "if amlcompute_cluster_name in cts and cts[amlcompute_cluster_name].type == 'AmlCompute':\n",
        "    found = True\n",
        "    print('Found existing training cluster.')\n",
        "    # Pobieranie klastra obliczeniowego\n",
        "    aml_remote_compute = cts[amlcompute_cluster_name]\n",
        "        \n",
        "    print('Checking cluster status...')\n",
        "    # Sprawdzanie statusu i skalowanie klastra \n",
        "    aml_remote_compute.wait_for_completion(show_output = True, min_node_count = 0, timeout_in_minutes = 20)\n",
        "\n",
        "    # Wypisanie dodatkowych informacji o klastrze\n",
        "    print(aml_remote_compute.get_status().serialize())\n",
        "    \n",
        "if not found:\n",
        "    # Jeśli zostanie wypisane to nie należy iść do kolejnego kroku\n",
        "    print('Training cluster not found...')\n"
      ],
      "outputs": [
        {
          "output_type": "stream",
          "name": "stdout",
          "text": [
            "Found existing training cluster.\n",
            "Checking cluster status...\n",
            "Succeeded\n",
            "AmlCompute wait for completion finished\n",
            "\n",
            "Minimum number of nodes requested have been provisioned\n",
            "{'currentNodeCount': 0, 'targetNodeCount': 0, 'nodeStateCounts': {'preparingNodeCount': 0, 'runningNodeCount': 0, 'idleNodeCount': 0, 'unusableNodeCount': 0, 'leavingNodeCount': 0, 'preemptedNodeCount': 0}, 'allocationState': 'Steady', 'allocationStateTransitionTime': '2021-01-26T22:42:16.153000+00:00', 'errors': None, 'creationTime': '2021-01-26T22:00:10.733210+00:00', 'modifiedTime': '2021-01-26T22:00:27.278900+00:00', 'provisioningState': 'Succeeded', 'provisioningStateTransitionTime': None, 'scaleSettings': {'minNodeCount': 0, 'maxNodeCount': 1, 'nodeIdleTimeBeforeScaleDown': 'PT120S'}, 'vmPriority': 'Dedicated', 'vmSize': 'STANDARD_DS3_V2'}\n"
          ]
        }
      ],
      "execution_count": 17,
      "metadata": {
        "collapsed": true,
        "jupyter": {
          "source_hidden": false,
          "outputs_hidden": false
        },
        "nteract": {
          "transient": {
            "deleting": false
          }
        },
        "gather": {
          "logged": 1611707059100
        }
      }
    },
    {
      "cell_type": "markdown",
      "source": [
        "### Tworzone są ustawienia klasyfikacji\n",
        "\n",
        "Dane będą przewidywane liniowo, tzn. ocena póki co nie będzie co 0.25 jak to ma miejsce w danych tylko będzie przewidywana jako liczba w wartościach od 1 do 5 z możliwością np 1.352214 itp."
      ],
      "metadata": {
        "nteract": {
          "transient": {
            "deleting": false
          }
        }
      }
    },
    {
      "cell_type": "code",
      "source": [
        "from azureml.train import automl\n",
        "\n",
        "# #Pobieranie listy możliwych metryk regresji\n",
        "automl.utilities.get_primary_metrics('regression')"
      ],
      "outputs": [
        {
          "output_type": "execute_result",
          "execution_count": 18,
          "data": {
            "text/plain": "['normalized_root_mean_squared_error',\n 'spearman_correlation',\n 'normalized_mean_absolute_error',\n 'r2_score']"
          },
          "metadata": {}
        }
      ],
      "execution_count": 18,
      "metadata": {
        "collapsed": true,
        "jupyter": {
          "source_hidden": false,
          "outputs_hidden": false
        },
        "nteract": {
          "transient": {
            "deleting": false
          }
        },
        "gather": {
          "logged": 1611707062800
        }
      }
    },
    {
      "cell_type": "code",
      "source": [
        "import logging\n",
        "import os\n",
        "\n",
        "from azureml.train.automl import AutoMLConfig\n",
        "\n",
        "# Tworzenie folderu gdzie będą zapisywane logi\n",
        "project_folder = './automl'\n",
        "os.makedirs(project_folder, exist_ok=True)\n",
        "\n",
        "# Konfigurowanie eksperymentu, używana jest metryka NRMSE i jako kolumnę która będzie przewidywana używana jest kolumna \"Rating\"\n",
        "# Używany jest tylko zbiór treningowy\n",
        "automl_config = AutoMLConfig(compute_target=aml_remote_compute,\n",
        "                             task='regression',\n",
        "                             primary_metric='normalized_root_mean_squared_error',\n",
        "                             experiment_timeout_minutes=15,                            \n",
        "                             training_data=train_dataset,\n",
        "                             label_column_name=\"Rating\",\n",
        "                             n_cross_validations=5,                                               \n",
        "                             enable_early_stopping=True,\n",
        "                             featurization='auto',\n",
        "                             debug_log='automated_ml_errors.log',\n",
        "                             verbosity=logging.INFO,\n",
        "                             path=project_folder\n",
        "                             )"
      ],
      "outputs": [],
      "execution_count": 19,
      "metadata": {
        "collapsed": true,
        "jupyter": {
          "source_hidden": false,
          "outputs_hidden": false
        },
        "nteract": {
          "transient": {
            "deleting": false
          }
        },
        "gather": {
          "logged": 1611707064200
        }
      }
    },
    {
      "cell_type": "markdown",
      "source": [
        "### Tworzenie funkcji regresji\n",
        "\n",
        "Tworzona jest funkcja dzięki której mozna przewidzieć wartość wyniku - pola _Rating_.  "
      ],
      "metadata": {
        "nteract": {
          "transient": {
            "deleting": false
          }
        }
      }
    },
    {
      "cell_type": "code",
      "source": [
        "from datetime import datetime\n",
        "\n",
        "# Tworzenie w miarę unikalnej nazwy - przynajmniej w tym projekcie monieważ pobierana jest data\n",
        "now = datetime.now()\n",
        "time_string = now.strftime(\"%m-%d-%Y-%H\")\n",
        "experiment_name = \"classif-automl-remote-{0}\".format(time_string)\n",
        "print(experiment_name)\n",
        "\n",
        "# Tworzenie eksperymentu\n",
        "experiment = aml.Experiment(workspace=ws, name=experiment_name)\n",
        "\n",
        "import time\n",
        "start_time = time.time()\n",
        "\n",
        "# Wysyłanie eksperymentu - czyli tworzenie funkcji regresji\n",
        "run = experiment.submit(automl_config, show_output=True)\n",
        "\n",
        "print('Manual run timing: --- %s seconds needed for running the whole Remote AutoML Experiment ---' % (time.time() - start_time))"
      ],
      "outputs": [
        {
          "output_type": "stream",
          "name": "stdout",
          "text": [
            "classif-automl-remote-01-27-2021-00\n",
            "Running on remote.\n",
            "No run_configuration provided, running on clusteraml with default configuration\n",
            "Running on remote compute: clusteraml\n",
            "Parent Run ID: AutoML_c27f743e-39c2-42bb-bf52-aabe314579ab\n",
            "\n",
            "Current status: FeaturesGeneration. Generating features for the dataset.\n",
            "Current status: DatasetCrossValidationSplit. Generating individually featurized CV splits.\n",
            "Current status: ModelSelection. Beginning model selection.\n",
            "\n",
            "****************************************************************************************************\n",
            "DATA GUARDRAILS: \n",
            "\n",
            "TYPE:         Missing feature values imputation\n",
            "STATUS:       DONE\n",
            "DESCRIPTION:  If the missing values are expected, let the run complete. Otherwise cancel the current run and use a script to customize the handling of missing feature values that may be more appropriate based on the data type and business requirement.\n",
            "              Learn more about missing value imputation: https://aka.ms/AutomatedMLFeaturization\n",
            "DETAILS:      \n",
            "+---------------------------------+---------------------------------+---------------------------------+\n",
            "|Column name                      |Missing value count              |Imputation type                  |\n",
            "+=================================+=================================+=================================+\n",
            "|Cocoa Percent                    |4                                |mean                             |\n",
            "|Broad Bean Origin                |1                                |                                 |\n",
            "+---------------------------------+---------------------------------+---------------------------------+\n",
            "\n",
            "****************************************************************************************************\n",
            "\n",
            "TYPE:         High cardinality feature detection\n",
            "STATUS:       DONE\n",
            "DESCRIPTION:  High cardinality features were detected in your inputs and handled.\n",
            "              Learn more about high cardinality feature handling: https://aka.ms/AutomatedMLFeaturization\n",
            "DETAILS:      High cardinality features refer to columns that contain a large percentage of unique values.\n",
            "+---------------------------------+---------------------------------+\n",
            "|Column name                      |Column Content Type              |\n",
            "+=================================+=================================+\n",
            "|Company                          |categorical_hash                 |\n",
            "|Specific Bean Origin             |categorical_hash                 |\n",
            "|Broad Bean Origin                |categorical_hash                 |\n",
            "+---------------------------------+---------------------------------+\n",
            "\n",
            "****************************************************************************************************\n",
            "\n",
            "****************************************************************************************************\n",
            "ITERATION: The iteration being evaluated.\n",
            "PIPELINE: A summary description of the pipeline being evaluated.\n",
            "DURATION: Time taken for the current iteration.\n",
            "METRIC: The result of computing score on the fitted pipeline.\n",
            "BEST: The best observed score thus far.\n",
            "****************************************************************************************************\n",
            "\n",
            " ITERATION   PIPELINE                                       DURATION      METRIC      BEST\n",
            "         0   MaxAbsScaler LightGBM                          0:00:45       0.0207    0.0207\n",
            "         1   MaxAbsScaler XGBoostRegressor                  0:00:53       0.0174    0.0174\n",
            "         2   StandardScalerWrapper ElasticNet               0:01:06       0.0192    0.0174\n",
            "         3   MaxAbsScaler DecisionTree                      0:00:39       0.0188    0.0174\n",
            "         4   MaxAbsScaler ElasticNet                        0:01:12       0.0200    0.0174\n",
            "         5   MaxAbsScaler DecisionTree                      0:00:47       0.0202    0.0174\n",
            "         6   MaxAbsScaler DecisionTree                      0:00:42       0.0218    0.0174\n",
            "         7   MaxAbsScaler DecisionTree                      0:00:42       0.0207    0.0174\n",
            "         8   MaxAbsScaler DecisionTree                      0:00:48       0.0188    0.0174\n",
            "         9   MaxAbsScaler DecisionTree                      0:00:47       0.0217    0.0174\n",
            "        10   MaxAbsScaler DecisionTree                      0:00:39       0.0205    0.0174\n",
            "        11   MaxAbsScaler DecisionTree                      0:00:42       0.0219    0.0174\n",
            "        12   MaxAbsScaler DecisionTree                      0:00:45       0.0189    0.0174\n",
            "        13   StandardScalerWrapper DecisionTree             0:00:39       0.0203    0.0174\n",
            "        14   MaxAbsScaler DecisionTree                      0:00:44       0.0186    0.0174\n",
            "        15    VotingEnsemble                                0:01:02       0.0174    0.0174\n",
            "        16    StackEnsemble                                 0:01:09       0.0177    0.0174\n",
            "Manual run timing: --- 1492.3460614681244 seconds needed for running the whole Remote AutoML Experiment ---\n"
          ]
        }
      ],
      "execution_count": 20,
      "metadata": {
        "collapsed": true,
        "jupyter": {
          "source_hidden": false,
          "outputs_hidden": false
        },
        "nteract": {
          "transient": {
            "deleting": false
          }
        },
        "gather": {
          "logged": 1611708949900
        }
      }
    },
    {
      "cell_type": "code",
      "source": [
        "# Wyświetlanie danych za pomocą bibliote\n",
        "from azureml.widgets import RunDetails\n",
        "RunDetails(run).show()"
      ],
      "outputs": [
        {
          "output_type": "display_data",
          "data": {
            "text/plain": "_AutoMLWidget(widget_settings={'childWidgetDisplay': 'popup', 'send_telemetry': False, 'log_level': 'INFO', 's…",
            "application/vnd.jupyter.widget-view+json": {
              "version_major": 2,
              "version_minor": 0,
              "model_id": "fedae4d4a19c48a08ea5b0ff9a248558"
            }
          },
          "metadata": {}
        },
        {
          "output_type": "display_data",
          "data": {
            "application/aml.mini.widget.v1": "{\"status\": \"Completed\", \"workbench_run_details_uri\": \"https://ml.azure.com/experiments/classif-automl-remote-01-27-2021-00/runs/AutoML_c27f743e-39c2-42bb-bf52-aabe314579ab?wsid=/subscriptions/416600d1-89d9-4ee5-9a25-a6ca53e3c797/resourcegroups/aml/workspaces/aml\", \"run_id\": \"AutoML_c27f743e-39c2-42bb-bf52-aabe314579ab\", \"run_properties\": {\"run_id\": \"AutoML_c27f743e-39c2-42bb-bf52-aabe314579ab\", \"created_utc\": \"2021-01-27T00:31:01.717381Z\", \"properties\": {\"num_iterations\": \"1000\", \"training_type\": \"TrainFull\", \"acquisition_function\": \"EI\", \"primary_metric\": \"normalized_root_mean_squared_error\", \"train_split\": \"0\", \"acquisition_parameter\": \"0\", \"num_cross_validation\": \"5\", \"target\": \"clusteraml\", \"AMLSettingsJsonString\": \"{\\\"path\\\":null,\\\"name\\\":\\\"classif-automl-remote-01-27-2021-00\\\",\\\"subscription_id\\\":\\\"416600d1-89d9-4ee5-9a25-a6ca53e3c797\\\",\\\"resource_group\\\":\\\"aml\\\",\\\"workspace_name\\\":\\\"aml\\\",\\\"region\\\":\\\"westeurope\\\",\\\"compute_target\\\":\\\"clusteraml\\\",\\\"spark_service\\\":null,\\\"azure_service\\\":\\\"remote\\\",\\\"many_models\\\":false,\\\"pipeline_fetch_max_batch_size\\\":1,\\\"iterations\\\":1000,\\\"primary_metric\\\":\\\"normalized_root_mean_squared_error\\\",\\\"task_type\\\":\\\"regression\\\",\\\"data_script\\\":null,\\\"validation_size\\\":0.0,\\\"n_cross_validations\\\":5,\\\"y_min\\\":null,\\\"y_max\\\":null,\\\"num_classes\\\":null,\\\"featurization\\\":\\\"auto\\\",\\\"_ignore_package_version_incompatibilities\\\":false,\\\"is_timeseries\\\":false,\\\"max_cores_per_iteration\\\":1,\\\"max_concurrent_iterations\\\":1,\\\"iteration_timeout_minutes\\\":null,\\\"mem_in_mb\\\":null,\\\"enforce_time_on_windows\\\":false,\\\"experiment_timeout_minutes\\\":15,\\\"experiment_exit_score\\\":null,\\\"whitelist_models\\\":null,\\\"blacklist_algos\\\":[\\\"TensorFlowDNN\\\",\\\"TensorFlowLinearRegressor\\\"],\\\"supported_models\\\":[\\\"KNN\\\",\\\"RandomForest\\\",\\\"SGD\\\",\\\"TensorFlowLinearRegressor\\\",\\\"LassoLars\\\",\\\"OnlineGradientDescentRegressor\\\",\\\"ElasticNet\\\",\\\"FastLinearRegressor\\\",\\\"GradientBoosting\\\",\\\"LightGBM\\\",\\\"TensorFlowDNN\\\",\\\"DecisionTree\\\",\\\"XGBoostRegressor\\\",\\\"ExtremeRandomTrees\\\"],\\\"auto_blacklist\\\":true,\\\"blacklist_samples_reached\\\":false,\\\"exclude_nan_labels\\\":true,\\\"verbosity\\\":20,\\\"_debug_log\\\":\\\"azureml_automl.log\\\",\\\"show_warnings\\\":false,\\\"model_explainability\\\":true,\\\"service_url\\\":null,\\\"sdk_url\\\":null,\\\"sdk_packages\\\":null,\\\"enable_onnx_compatible_models\\\":false,\\\"enable_split_onnx_featurizer_estimator_models\\\":false,\\\"vm_type\\\":\\\"STANDARD_DS3_V2\\\",\\\"telemetry_verbosity\\\":20,\\\"send_telemetry\\\":true,\\\"enable_dnn\\\":false,\\\"scenario\\\":\\\"SDK-1.13.0\\\",\\\"environment_label\\\":null,\\\"force_text_dnn\\\":false,\\\"enable_feature_sweeping\\\":true,\\\"enable_early_stopping\\\":true,\\\"early_stopping_n_iters\\\":10,\\\"metrics\\\":null,\\\"enable_ensembling\\\":true,\\\"enable_stack_ensembling\\\":true,\\\"ensemble_iterations\\\":15,\\\"enable_tf\\\":false,\\\"enable_subsampling\\\":null,\\\"subsample_seed\\\":null,\\\"enable_nimbusml\\\":false,\\\"enable_streaming\\\":false,\\\"force_streaming\\\":false,\\\"track_child_runs\\\":true,\\\"allowed_private_models\\\":[],\\\"label_column_name\\\":\\\"Rating\\\",\\\"weight_column_name\\\":null,\\\"cv_split_column_names\\\":null,\\\"enable_local_managed\\\":false,\\\"_local_managed_run_id\\\":null,\\\"cost_mode\\\":1,\\\"lag_length\\\":0,\\\"metric_operation\\\":\\\"minimize\\\",\\\"preprocess\\\":true}\", \"DataPrepJsonString\": \"{\\\\\\\"training_data\\\\\\\": \\\\\\\"{\\\\\\\\\\\\\\\"blocks\\\\\\\\\\\\\\\": [{\\\\\\\\\\\\\\\"id\\\\\\\\\\\\\\\": \\\\\\\\\\\\\\\"cdf1009d-0e79-4f04-a179-867bebe5a9bf\\\\\\\\\\\\\\\", \\\\\\\\\\\\\\\"type\\\\\\\\\\\\\\\": \\\\\\\\\\\\\\\"Microsoft.DPrep.GetDatastoreFilesBlock\\\\\\\\\\\\\\\", \\\\\\\\\\\\\\\"arguments\\\\\\\\\\\\\\\": {\\\\\\\\\\\\\\\"datastores\\\\\\\\\\\\\\\": [{\\\\\\\\\\\\\\\"datastoreName\\\\\\\\\\\\\\\": \\\\\\\\\\\\\\\"workspaceblobstore\\\\\\\\\\\\\\\", \\\\\\\\\\\\\\\"path\\\\\\\\\\\\\\\": \\\\\\\\\\\\\\\"UI/01-26-2021_111042_UTC/flavors_of_cacao.csv\\\\\\\\\\\\\\\", \\\\\\\\\\\\\\\"resourceGroup\\\\\\\\\\\\\\\": \\\\\\\\\\\\\\\"aml\\\\\\\\\\\\\\\", \\\\\\\\\\\\\\\"subscription\\\\\\\\\\\\\\\": \\\\\\\\\\\\\\\"416600d1-89d9-4ee5-9a25-a6ca53e3c797\\\\\\\\\\\\\\\", \\\\\\\\\\\\\\\"workspaceName\\\\\\\\\\\\\\\": \\\\\\\\\\\\\\\"aml\\\\\\\\\\\\\\\"}]}, \\\\\\\\\\\\\\\"localData\\\\\\\\\\\\\\\": {}, \\\\\\\\\\\\\\\"isEnabled\\\\\\\\\\\\\\\": true, \\\\\\\\\\\\\\\"name\\\\\\\\\\\\\\\": null, \\\\\\\\\\\\\\\"annotation\\\\\\\\\\\\\\\": null}, {\\\\\\\\\\\\\\\"id\\\\\\\\\\\\\\\": \\\\\\\\\\\\\\\"06ada5d0-0ec2-4c2b-8e29-8d4e3f2a893e\\\\\\\\\\\\\\\", \\\\\\\\\\\\\\\"type\\\\\\\\\\\\\\\": \\\\\\\\\\\\\\\"Microsoft.DPrep.ParseDelimitedBlock\\\\\\\\\\\\\\\", \\\\\\\\\\\\\\\"arguments\\\\\\\\\\\\\\\": {\\\\\\\\\\\\\\\"columnHeadersMode\\\\\\\\\\\\\\\": 1, \\\\\\\\\\\\\\\"fileEncoding\\\\\\\\\\\\\\\": 0, \\\\\\\\\\\\\\\"handleQuotedLineBreaks\\\\\\\\\\\\\\\": false, \\\\\\\\\\\\\\\"preview\\\\\\\\\\\\\\\": false, \\\\\\\\\\\\\\\"separator\\\\\\\\\\\\\\\": \\\\\\\\\\\\\\\",\\\\\\\\\\\\\\\", \\\\\\\\\\\\\\\"skipRows\\\\\\\\\\\\\\\": 0, \\\\\\\\\\\\\\\"skipRowsMode\\\\\\\\\\\\\\\": 0}, \\\\\\\\\\\\\\\"localData\\\\\\\\\\\\\\\": {}, \\\\\\\\\\\\\\\"isEnabled\\\\\\\\\\\\\\\": true, \\\\\\\\\\\\\\\"name\\\\\\\\\\\\\\\": null, \\\\\\\\\\\\\\\"annotation\\\\\\\\\\\\\\\": null}, {\\\\\\\\\\\\\\\"id\\\\\\\\\\\\\\\": \\\\\\\\\\\\\\\"4916cb02-35e4-49a6-878e-f4efdac177d1\\\\\\\\\\\\\\\", \\\\\\\\\\\\\\\"type\\\\\\\\\\\\\\\": \\\\\\\\\\\\\\\"Microsoft.DPrep.DropColumnsBlock\\\\\\\\\\\\\\\", \\\\\\\\\\\\\\\"arguments\\\\\\\\\\\\\\\": {\\\\\\\\\\\\\\\"columns\\\\\\\\\\\\\\\": {\\\\\\\\\\\\\\\"type\\\\\\\\\\\\\\\": 0, \\\\\\\\\\\\\\\"details\\\\\\\\\\\\\\\": {\\\\\\\\\\\\\\\"selectedColumns\\\\\\\\\\\\\\\": [\\\\\\\\\\\\\\\"Path\\\\\\\\\\\\\\\", \\\\\\\\\\\\\\\"Column10\\\\\\\\\\\\\\\", \\\\\\\\\\\\\\\"Column11\\\\\\\\\\\\\\\"]}}}, \\\\\\\\\\\\\\\"localData\\\\\\\\\\\\\\\": {}, \\\\\\\\\\\\\\\"isEnabled\\\\\\\\\\\\\\\": true, \\\\\\\\\\\\\\\"name\\\\\\\\\\\\\\\": null, \\\\\\\\\\\\\\\"annotation\\\\\\\\\\\\\\\": null}, {\\\\\\\\\\\\\\\"id\\\\\\\\\\\\\\\": \\\\\\\\\\\\\\\"1a3b1065-862a-4470-bfed-fb5853fe909e\\\\\\\\\\\\\\\", \\\\\\\\\\\\\\\"type\\\\\\\\\\\\\\\": \\\\\\\\\\\\\\\"Microsoft.DPrep.SetColumnTypesBlock\\\\\\\\\\\\\\\", \\\\\\\\\\\\\\\"arguments\\\\\\\\\\\\\\\": {\\\\\\\\\\\\\\\"columnConversion\\\\\\\\\\\\\\\": [{\\\\\\\\\\\\\\\"column\\\\\\\\\\\\\\\": {\\\\\\\\\\\\\\\"type\\\\\\\\\\\\\\\": 2, \\\\\\\\\\\\\\\"details\\\\\\\\\\\\\\\": {\\\\\\\\\\\\\\\"selectedColumn\\\\\\\\\\\\\\\": \\\\\\\\\\\\\\\"Path\\\\\\\\\\\\\\\"}}, \\\\\\\\\\\\\\\"typeProperty\\\\\\\\\\\\\\\": 0}, {\\\\\\\\\\\\\\\"column\\\\\\\\\\\\\\\": {\\\\\\\\\\\\\\\"type\\\\\\\\\\\\\\\": 2, \\\\\\\\\\\\\\\"details\\\\\\\\\\\\\\\": {\\\\\\\\\\\\\\\"selectedColumn\\\\\\\\\\\\\\\": \\\\\\\\\\\\\\\"Company\\\\\\\\\\\\\\\"}}, \\\\\\\\\\\\\\\"typeProperty\\\\\\\\\\\\\\\": 0}, {\\\\\\\\\\\\\\\"column\\\\\\\\\\\\\\\": {\\\\\\\\\\\\\\\"type\\\\\\\\\\\\\\\": 2, \\\\\\\\\\\\\\\"details\\\\\\\\\\\\\\\": {\\\\\\\\\\\\\\\"selectedColumn\\\\\\\\\\\\\\\": \\\\\\\\\\\\\\\"Specific Bean Origin\\\\\\\\\\\\\\\"}}, \\\\\\\\\\\\\\\"typeProperty\\\\\\\\\\\\\\\": 0}, {\\\\\\\\\\\\\\\"column\\\\\\\\\\\\\\\": {\\\\\\\\\\\\\\\"type\\\\\\\\\\\\\\\": 2, \\\\\\\\\\\\\\\"details\\\\\\\\\\\\\\\": {\\\\\\\\\\\\\\\"selectedColumn\\\\\\\\\\\\\\\": \\\\\\\\\\\\\\\"REF\\\\\\\\\\\\\\\"}}, \\\\\\\\\\\\\\\"typeProperty\\\\\\\\\\\\\\\": 2}, {\\\\\\\\\\\\\\\"column\\\\\\\\\\\\\\\": {\\\\\\\\\\\\\\\"type\\\\\\\\\\\\\\\": 2, \\\\\\\\\\\\\\\"details\\\\\\\\\\\\\\\": {\\\\\\\\\\\\\\\"selectedColumn\\\\\\\\\\\\\\\": \\\\\\\\\\\\\\\"Review Date\\\\\\\\\\\\\\\"}}, \\\\\\\\\\\\\\\"typeProperty\\\\\\\\\\\\\\\": 2}, {\\\\\\\\\\\\\\\"column\\\\\\\\\\\\\\\": {\\\\\\\\\\\\\\\"type\\\\\\\\\\\\\\\": 2, \\\\\\\\\\\\\\\"details\\\\\\\\\\\\\\\": {\\\\\\\\\\\\\\\"selectedColumn\\\\\\\\\\\\\\\": \\\\\\\\\\\\\\\"Cocoa Percent\\\\\\\\\\\\\\\"}}, \\\\\\\\\\\\\\\"typeProperty\\\\\\\\\\\\\\\": 2}, {\\\\\\\\\\\\\\\"column\\\\\\\\\\\\\\\": {\\\\\\\\\\\\\\\"type\\\\\\\\\\\\\\\": 2, \\\\\\\\\\\\\\\"details\\\\\\\\\\\\\\\": {\\\\\\\\\\\\\\\"selectedColumn\\\\\\\\\\\\\\\": \\\\\\\\\\\\\\\"Company Location\\\\\\\\\\\\\\\"}}, \\\\\\\\\\\\\\\"typeProperty\\\\\\\\\\\\\\\": 0}, {\\\\\\\\\\\\\\\"column\\\\\\\\\\\\\\\": {\\\\\\\\\\\\\\\"type\\\\\\\\\\\\\\\": 2, \\\\\\\\\\\\\\\"details\\\\\\\\\\\\\\\": {\\\\\\\\\\\\\\\"selectedColumn\\\\\\\\\\\\\\\": \\\\\\\\\\\\\\\"Rating\\\\\\\\\\\\\\\"}}, \\\\\\\\\\\\\\\"typeProperty\\\\\\\\\\\\\\\": 3}, {\\\\\\\\\\\\\\\"column\\\\\\\\\\\\\\\": {\\\\\\\\\\\\\\\"type\\\\\\\\\\\\\\\": 2, \\\\\\\\\\\\\\\"details\\\\\\\\\\\\\\\": {\\\\\\\\\\\\\\\"selectedColumn\\\\\\\\\\\\\\\": \\\\\\\\\\\\\\\"Bean Type\\\\\\\\\\\\\\\"}}, \\\\\\\\\\\\\\\"typeProperty\\\\\\\\\\\\\\\": 0}, {\\\\\\\\\\\\\\\"column\\\\\\\\\\\\\\\": {\\\\\\\\\\\\\\\"type\\\\\\\\\\\\\\\": 2, \\\\\\\\\\\\\\\"details\\\\\\\\\\\\\\\": {\\\\\\\\\\\\\\\"selectedColumn\\\\\\\\\\\\\\\": \\\\\\\\\\\\\\\"Broad Bean Origin\\\\\\\\\\\\\\\"}}, \\\\\\\\\\\\\\\"typeProperty\\\\\\\\\\\\\\\": 0}, {\\\\\\\\\\\\\\\"column\\\\\\\\\\\\\\\": {\\\\\\\\\\\\\\\"type\\\\\\\\\\\\\\\": 2, \\\\\\\\\\\\\\\"details\\\\\\\\\\\\\\\": {\\\\\\\\\\\\\\\"selectedColumn\\\\\\\\\\\\\\\": \\\\\\\\\\\\\\\"Column10\\\\\\\\\\\\\\\"}}, \\\\\\\\\\\\\\\"typeProperty\\\\\\\\\\\\\\\": 0}, {\\\\\\\\\\\\\\\"column\\\\\\\\\\\\\\\": {\\\\\\\\\\\\\\\"type\\\\\\\\\\\\\\\": 2, \\\\\\\\\\\\\\\"details\\\\\\\\\\\\\\\": {\\\\\\\\\\\\\\\"selectedColumn\\\\\\\\\\\\\\\": \\\\\\\\\\\\\\\"Column11\\\\\\\\\\\\\\\"}}, \\\\\\\\\\\\\\\"typeProperty\\\\\\\\\\\\\\\": 0}]}, \\\\\\\\\\\\\\\"localData\\\\\\\\\\\\\\\": {}, \\\\\\\\\\\\\\\"isEnabled\\\\\\\\\\\\\\\": true, \\\\\\\\\\\\\\\"name\\\\\\\\\\\\\\\": null, \\\\\\\\\\\\\\\"annotation\\\\\\\\\\\\\\\": null}, {\\\\\\\\\\\\\\\"id\\\\\\\\\\\\\\\": \\\\\\\\\\\\\\\"31e42ac3-6d69-4073-bd8f-2e41cacc8c88\\\\\\\\\\\\\\\", \\\\\\\\\\\\\\\"type\\\\\\\\\\\\\\\": \\\\\\\\\\\\\\\"Microsoft.DPrep.DropColumnsBlock\\\\\\\\\\\\\\\", \\\\\\\\\\\\\\\"arguments\\\\\\\\\\\\\\\": {\\\\\\\\\\\\\\\"columns\\\\\\\\\\\\\\\": {\\\\\\\\\\\\\\\"type\\\\\\\\\\\\\\\": 0, \\\\\\\\\\\\\\\"details\\\\\\\\\\\\\\\": {\\\\\\\\\\\\\\\"selectedColumns\\\\\\\\\\\\\\\": [\\\\\\\\\\\\\\\"REF\\\\\\\\\\\\\\\", \\\\\\\\\\\\\\\"Review Date\\\\\\\\\\\\\\\"]}}}, \\\\\\\\\\\\\\\"localData\\\\\\\\\\\\\\\": {}, \\\\\\\\\\\\\\\"isEnabled\\\\\\\\\\\\\\\": true, \\\\\\\\\\\\\\\"name\\\\\\\\\\\\\\\": null, \\\\\\\\\\\\\\\"annotation\\\\\\\\\\\\\\\": null}, {\\\\\\\\\\\\\\\"id\\\\\\\\\\\\\\\": \\\\\\\\\\\\\\\"68e6c837-3645-48ee-aadd-8ec36cdc01cb\\\\\\\\\\\\\\\", \\\\\\\\\\\\\\\"type\\\\\\\\\\\\\\\": \\\\\\\\\\\\\\\"Microsoft.DPrep.DropColumnsBlock\\\\\\\\\\\\\\\", \\\\\\\\\\\\\\\"arguments\\\\\\\\\\\\\\\": {\\\\\\\\\\\\\\\"columns\\\\\\\\\\\\\\\": {\\\\\\\\\\\\\\\"type\\\\\\\\\\\\\\\": 0, \\\\\\\\\\\\\\\"details\\\\\\\\\\\\\\\": {\\\\\\\\\\\\\\\"selectedColumns\\\\\\\\\\\\\\\": [\\\\\\\\\\\\\\\"REF\\\\\\\\\\\\\\\", \\\\\\\\\\\\\\\"Review Date\\\\\\\\\\\\\\\"]}}}, \\\\\\\\\\\\\\\"localData\\\\\\\\\\\\\\\": {}, \\\\\\\\\\\\\\\"isEnabled\\\\\\\\\\\\\\\": true, \\\\\\\\\\\\\\\"name\\\\\\\\\\\\\\\": null, \\\\\\\\\\\\\\\"annotation\\\\\\\\\\\\\\\": null}, {\\\\\\\\\\\\\\\"id\\\\\\\\\\\\\\\": \\\\\\\\\\\\\\\"c4e55143-06a9-4491-b00e-eb5838e0dcdd\\\\\\\\\\\\\\\", \\\\\\\\\\\\\\\"type\\\\\\\\\\\\\\\": \\\\\\\\\\\\\\\"Microsoft.DPrep.TakeSampleBlock\\\\\\\\\\\\\\\", \\\\\\\\\\\\\\\"arguments\\\\\\\\\\\\\\\": {\\\\\\\\\\\\\\\"probability\\\\\\\\\\\\\\\": 0.7, \\\\\\\\\\\\\\\"probabilityLowerBound\\\\\\\\\\\\\\\": 0.0, \\\\\\\\\\\\\\\"seed\\\\\\\\\\\\\\\": 1337}, \\\\\\\\\\\\\\\"localData\\\\\\\\\\\\\\\": {}, \\\\\\\\\\\\\\\"isEnabled\\\\\\\\\\\\\\\": true, \\\\\\\\\\\\\\\"name\\\\\\\\\\\\\\\": null, \\\\\\\\\\\\\\\"annotation\\\\\\\\\\\\\\\": null}], \\\\\\\\\\\\\\\"inspectors\\\\\\\\\\\\\\\": [], \\\\\\\\\\\\\\\"meta\\\\\\\\\\\\\\\": {\\\\\\\\\\\\\\\"savedDatasetId\\\\\\\\\\\\\\\": \\\\\\\\\\\\\\\"277ec681-2b36-481b-9d7e-fd301ed2b3a8\\\\\\\\\\\\\\\", \\\\\\\\\\\\\\\"datasetType\\\\\\\\\\\\\\\": \\\\\\\\\\\\\\\"tabular\\\\\\\\\\\\\\\", \\\\\\\\\\\\\\\"subscriptionId\\\\\\\\\\\\\\\": \\\\\\\\\\\\\\\"416600d1-89d9-4ee5-9a25-a6ca53e3c797\\\\\\\\\\\\\\\", \\\\\\\\\\\\\\\"workspaceId\\\\\\\\\\\\\\\": \\\\\\\\\\\\\\\"ea90afba-8d1d-4562-b5fa-7edda2fae981\\\\\\\\\\\\\\\", \\\\\\\\\\\\\\\"workspaceLocation\\\\\\\\\\\\\\\": \\\\\\\\\\\\\\\"westeurope\\\\\\\\\\\\\\\"}}\\\\\\\", \\\\\\\"activities\\\\\\\": 0}\", \"EnableSubsampling\": null, \"runTemplate\": \"AutoML\", \"azureml.runsource\": \"automl\", \"display_task_type\": \"regression\", \"dependencies_versions\": \"{\\\"azureml-widgets\\\": \\\"1.20.0\\\", \\\"azureml-train\\\": \\\"1.20.0\\\", \\\"azureml-train-restclients-hyperdrive\\\": \\\"1.20.0\\\", \\\"azureml-train-core\\\": \\\"1.20.0\\\", \\\"azureml-train-automl\\\": \\\"1.20.0\\\", \\\"azureml-train-automl-runtime\\\": \\\"1.20.0\\\", \\\"azureml-train-automl-client\\\": \\\"1.20.0\\\", \\\"azureml-tensorboard\\\": \\\"1.20.0\\\", \\\"azureml-telemetry\\\": \\\"1.20.0\\\", \\\"azureml-sdk\\\": \\\"1.20.0\\\", \\\"azureml-samples\\\": \\\"0+unknown\\\", \\\"azureml-pipeline\\\": \\\"1.20.0\\\", \\\"azureml-pipeline-steps\\\": \\\"1.20.0\\\", \\\"azureml-pipeline-core\\\": \\\"1.20.0\\\", \\\"azureml-opendatasets\\\": \\\"1.20.0\\\", \\\"azureml-model-management-sdk\\\": \\\"1.0.1b6.post1\\\", \\\"azureml-mlflow\\\": \\\"1.20.0.post1\\\", \\\"azureml-interpret\\\": \\\"1.20.0\\\", \\\"azureml-explain-model\\\": \\\"1.20.0\\\", \\\"azureml-defaults\\\": \\\"1.20.0\\\", \\\"azureml-dataset-runtime\\\": \\\"1.20.0\\\", \\\"azureml-dataprep\\\": \\\"2.7.3\\\", \\\"azureml-dataprep-rslex\\\": \\\"1.5.0\\\", \\\"azureml-dataprep-native\\\": \\\"27.0.0\\\", \\\"azureml-datadrift\\\": \\\"1.20.0\\\", \\\"azureml-core\\\": \\\"1.20.0\\\", \\\"azureml-contrib-services\\\": \\\"1.20.0\\\", \\\"azureml-contrib-server\\\": \\\"1.20.0\\\", \\\"azureml-contrib-reinforcementlearning\\\": \\\"1.20.0\\\", \\\"azureml-contrib-pipeline-steps\\\": \\\"1.20.0\\\", \\\"azureml-contrib-notebook\\\": \\\"1.20.0\\\", \\\"azureml-contrib-interpret\\\": \\\"1.20.0\\\", \\\"azureml-contrib-gbdt\\\": \\\"1.20.0\\\", \\\"azureml-contrib-fairness\\\": \\\"1.20.0\\\", \\\"azureml-contrib-dataset\\\": \\\"1.20.0\\\", \\\"azureml-cli-common\\\": \\\"1.20.0\\\", \\\"azureml-automl-runtime\\\": \\\"1.20.0\\\", \\\"azureml-automl-core\\\": \\\"1.20.0\\\", \\\"azureml-accel-models\\\": \\\"1.20.0\\\"}\", \"_aml_system_scenario_identification\": \"Remote.Parent\", \"ClientType\": \"SDK\", \"environment_cpu_name\": \"AzureML-AutoML\", \"environment_cpu_label\": \"prod\", \"environment_gpu_name\": \"AzureML-AutoML-GPU\", \"environment_gpu_label\": \"prod\", \"root_attribution\": \"automl\", \"attribution\": \"AutoML\", \"Orchestrator\": \"AutoML\", \"CancelUri\": \"https://westeurope.experiments.azureml.net/jasmine/v1.0/subscriptions/416600d1-89d9-4ee5-9a25-a6ca53e3c797/resourceGroups/aml/providers/Microsoft.MachineLearningServices/workspaces/aml/experimentids/148b0ac7-9f81-4f3f-8922-a037e036ac76/cancel/AutoML_c27f743e-39c2-42bb-bf52-aabe314579ab\", \"ClientSdkVersion\": \"1.20.0.post1\", \"snapshotId\": \"00000000-0000-0000-0000-000000000000\", \"SetupRunId\": \"AutoML_c27f743e-39c2-42bb-bf52-aabe314579ab_setup\", \"SetupRunContainerId\": \"dcid.AutoML_c27f743e-39c2-42bb-bf52-aabe314579ab_setup\", \"FeaturizationRunJsonPath\": \"featurizer_container.json\", \"FeaturizationRunId\": \"AutoML_c27f743e-39c2-42bb-bf52-aabe314579ab_featurize\", \"ProblemInfoJsonString\": \"{\\\"dataset_num_categorical\\\": 0, \\\"is_sparse\\\": true, \\\"subsampling\\\": false, \\\"dataset_classes\\\": 14, \\\"dataset_features\\\": 926, \\\"dataset_samples\\\": 1263, \\\"single_frequency_class_detected\\\": false}\", \"ModelExplainRunId\": \"AutoML_c27f743e-39c2-42bb-bf52-aabe314579ab_ModelExplain\"}, \"tags\": {\"model_explain_run\": \"best_run\", \"_aml_system_azureml.automlComponent\": \"AutoML\", \"pipeline_id\": \"\", \"score\": \"\", \"predicted_cost\": \"\", \"fit_time\": \"\", \"training_percent\": \"\", \"iteration\": \"\", \"run_preprocessor\": \"\", \"run_algorithm\": \"\", \"automl_best_child_run_id\": \"AutoML_c27f743e-39c2-42bb-bf52-aabe314579ab_15\", \"model_explain_best_run_child_id\": \"AutoML_c27f743e-39c2-42bb-bf52-aabe314579ab_15\"}, \"end_time_utc\": \"2021-01-27T00:55:37.475135Z\", \"status\": \"Completed\", \"log_files\": {}, \"log_groups\": [], \"run_duration\": \"0:24:35\"}, \"child_runs\": [{\"run_id\": \"AutoML_c27f743e-39c2-42bb-bf52-aabe314579ab_0\", \"run_number\": 5, \"metric\": null, \"status\": \"Completed\", \"run_type\": \"azureml.scriptrun\", \"training_percent\": \"100\", \"start_time\": \"2021-01-27T00:37:39.942725Z\", \"end_time\": \"2021-01-27T00:38:24.529683Z\", \"created_time\": \"2021-01-27T00:37:30.190516Z\", \"created_time_dt\": \"2021-01-27T00:37:30.190516Z\", \"duration\": \"0:00:54\", \"iteration\": \"0\", \"goal\": \"normalized_root_mean_squared_error_min\", \"run_name\": \"MaxAbsScaler, LightGBM\", \"run_properties\": \"copy=True\", \"primary_metric\": 0.0206771, \"best_metric\": 0.0206771}, {\"run_id\": \"AutoML_c27f743e-39c2-42bb-bf52-aabe314579ab_1\", \"run_number\": 6, \"metric\": null, \"status\": \"Completed\", \"run_type\": \"azureml.scriptrun\", \"training_percent\": \"100\", \"start_time\": \"2021-01-27T00:38:35.374783Z\", \"end_time\": \"2021-01-27T00:39:28.023196Z\", \"created_time\": \"2021-01-27T00:38:25.557684Z\", \"created_time_dt\": \"2021-01-27T00:38:25.557684Z\", \"duration\": \"0:01:02\", \"iteration\": \"1\", \"goal\": \"normalized_root_mean_squared_error_min\", \"run_name\": \"MaxAbsScaler, XGBoostRegressor\", \"run_properties\": \"copy=True\", \"primary_metric\": 0.01736279, \"best_metric\": 0.01736279}, {\"run_id\": \"AutoML_c27f743e-39c2-42bb-bf52-aabe314579ab_2\", \"run_number\": 7, \"metric\": null, \"status\": \"Completed\", \"run_type\": \"azureml.scriptrun\", \"training_percent\": \"100\", \"start_time\": \"2021-01-27T00:39:40.455114Z\", \"end_time\": \"2021-01-27T00:40:46.436575Z\", \"created_time\": \"2021-01-27T00:39:29.316305Z\", \"created_time_dt\": \"2021-01-27T00:39:29.316305Z\", \"duration\": \"0:01:17\", \"iteration\": \"2\", \"goal\": \"normalized_root_mean_squared_error_min\", \"run_name\": \"StandardScalerWrapper, ElasticNet\", \"run_properties\": \"<azureml.automl.runtime.shared.model_wrappers.StandardScalerWrapper object at 0x7fe6423116a0\", \"primary_metric\": 0.0192056, \"best_metric\": 0.01736279}, {\"run_id\": \"AutoML_c27f743e-39c2-42bb-bf52-aabe314579ab_3\", \"run_number\": 8, \"metric\": null, \"status\": \"Completed\", \"run_type\": \"azureml.scriptrun\", \"training_percent\": \"100\", \"start_time\": \"2021-01-27T00:40:59.491407Z\", \"end_time\": \"2021-01-27T00:41:38.750987Z\", \"created_time\": \"2021-01-27T00:40:48.351097Z\", \"created_time_dt\": \"2021-01-27T00:40:48.351097Z\", \"duration\": \"0:00:50\", \"iteration\": \"3\", \"goal\": \"normalized_root_mean_squared_error_min\", \"run_name\": \"MaxAbsScaler, DecisionTree\", \"run_properties\": \"copy=True\", \"primary_metric\": 0.01880114, \"best_metric\": 0.01736279}, {\"run_id\": \"AutoML_c27f743e-39c2-42bb-bf52-aabe314579ab_4\", \"run_number\": 9, \"metric\": null, \"status\": \"Completed\", \"run_type\": \"azureml.scriptrun\", \"training_percent\": \"100\", \"start_time\": \"2021-01-27T00:41:53.773301Z\", \"end_time\": \"2021-01-27T00:43:05.853242Z\", \"created_time\": \"2021-01-27T00:41:42.734512Z\", \"created_time_dt\": \"2021-01-27T00:41:42.734512Z\", \"duration\": \"0:01:23\", \"iteration\": \"4\", \"goal\": \"normalized_root_mean_squared_error_min\", \"run_name\": \"MaxAbsScaler, ElasticNet\", \"run_properties\": \"copy=True\", \"primary_metric\": 0.02003266, \"best_metric\": 0.01736279}, {\"run_id\": \"AutoML_c27f743e-39c2-42bb-bf52-aabe314579ab_5\", \"run_number\": 10, \"metric\": null, \"status\": \"Completed\", \"run_type\": \"azureml.scriptrun\", \"training_percent\": \"100\", \"start_time\": \"2021-01-27T00:43:20.205832Z\", \"end_time\": \"2021-01-27T00:44:07.158542Z\", \"created_time\": \"2021-01-27T00:43:08.816437Z\", \"created_time_dt\": \"2021-01-27T00:43:08.816437Z\", \"duration\": \"0:00:58\", \"iteration\": \"5\", \"goal\": \"normalized_root_mean_squared_error_min\", \"run_name\": \"MaxAbsScaler, DecisionTree\", \"run_properties\": \"copy=True\", \"primary_metric\": 0.02018532, \"best_metric\": 0.01736279}, {\"run_id\": \"AutoML_c27f743e-39c2-42bb-bf52-aabe314579ab_6\", \"run_number\": 11, \"metric\": null, \"status\": \"Completed\", \"run_type\": \"azureml.scriptrun\", \"training_percent\": \"100\", \"start_time\": \"2021-01-27T00:44:21.799526Z\", \"end_time\": \"2021-01-27T00:45:03.820788Z\", \"created_time\": \"2021-01-27T00:44:09.87605Z\", \"created_time_dt\": \"2021-01-27T00:44:09.87605Z\", \"duration\": \"0:00:53\", \"iteration\": \"6\", \"goal\": \"normalized_root_mean_squared_error_min\", \"run_name\": \"MaxAbsScaler, DecisionTree\", \"run_properties\": \"copy=True\", \"primary_metric\": 0.02181292, \"best_metric\": 0.01736279}, {\"run_id\": \"AutoML_c27f743e-39c2-42bb-bf52-aabe314579ab_7\", \"run_number\": 12, \"metric\": null, \"status\": \"Completed\", \"run_type\": \"azureml.scriptrun\", \"training_percent\": \"100\", \"start_time\": \"2021-01-27T00:45:17.232204Z\", \"end_time\": \"2021-01-27T00:45:59.0322Z\", \"created_time\": \"2021-01-27T00:45:06.36003Z\", \"created_time_dt\": \"2021-01-27T00:45:06.36003Z\", \"duration\": \"0:00:52\", \"iteration\": \"7\", \"goal\": \"normalized_root_mean_squared_error_min\", \"run_name\": \"MaxAbsScaler, DecisionTree\", \"run_properties\": \"copy=True\", \"primary_metric\": 0.02065684, \"best_metric\": 0.01736279}, {\"run_id\": \"AutoML_c27f743e-39c2-42bb-bf52-aabe314579ab_8\", \"run_number\": 13, \"metric\": null, \"status\": \"Completed\", \"run_type\": \"azureml.scriptrun\", \"training_percent\": \"100\", \"start_time\": \"2021-01-27T00:46:14.690022Z\", \"end_time\": \"2021-01-27T00:47:02.680943Z\", \"created_time\": \"2021-01-27T00:46:01.664442Z\", \"created_time_dt\": \"2021-01-27T00:46:01.664442Z\", \"duration\": \"0:01:01\", \"iteration\": \"8\", \"goal\": \"normalized_root_mean_squared_error_min\", \"run_name\": \"MaxAbsScaler, DecisionTree\", \"run_properties\": \"copy=True\", \"primary_metric\": 0.01879709, \"best_metric\": 0.01736279}, {\"run_id\": \"AutoML_c27f743e-39c2-42bb-bf52-aabe314579ab_9\", \"run_number\": 14, \"metric\": null, \"status\": \"Completed\", \"run_type\": \"azureml.scriptrun\", \"training_percent\": \"100\", \"start_time\": \"2021-01-27T00:47:17.44548Z\", \"end_time\": \"2021-01-27T00:48:04.767543Z\", \"created_time\": \"2021-01-27T00:47:05.690775Z\", \"created_time_dt\": \"2021-01-27T00:47:05.690775Z\", \"duration\": \"0:00:59\", \"iteration\": \"9\", \"goal\": \"normalized_root_mean_squared_error_min\", \"run_name\": \"MaxAbsScaler, DecisionTree\", \"run_properties\": \"copy=True\", \"primary_metric\": 0.02173822, \"best_metric\": 0.01736279}, {\"run_id\": \"AutoML_c27f743e-39c2-42bb-bf52-aabe314579ab_10\", \"run_number\": 15, \"metric\": null, \"status\": \"Completed\", \"run_type\": \"azureml.scriptrun\", \"training_percent\": \"100\", \"start_time\": \"2021-01-27T00:48:21.751563Z\", \"end_time\": \"2021-01-27T00:49:01.190997Z\", \"created_time\": \"2021-01-27T00:48:07.895087Z\", \"created_time_dt\": \"2021-01-27T00:48:07.895087Z\", \"duration\": \"0:00:53\", \"iteration\": \"10\", \"goal\": \"normalized_root_mean_squared_error_min\", \"run_name\": \"MaxAbsScaler, DecisionTree\", \"run_properties\": \"copy=True\", \"primary_metric\": 0.02050272, \"best_metric\": 0.01736279}, {\"run_id\": \"AutoML_c27f743e-39c2-42bb-bf52-aabe314579ab_11\", \"run_number\": 16, \"metric\": null, \"status\": \"Completed\", \"run_type\": \"azureml.scriptrun\", \"training_percent\": \"100\", \"start_time\": \"2021-01-27T00:49:15.401639Z\", \"end_time\": \"2021-01-27T00:49:57.682531Z\", \"created_time\": \"2021-01-27T00:49:03.846803Z\", \"created_time_dt\": \"2021-01-27T00:49:03.846803Z\", \"duration\": \"0:00:53\", \"iteration\": \"11\", \"goal\": \"normalized_root_mean_squared_error_min\", \"run_name\": \"MaxAbsScaler, DecisionTree\", \"run_properties\": \"copy=True\", \"primary_metric\": 0.02187666, \"best_metric\": 0.01736279}, {\"run_id\": \"AutoML_c27f743e-39c2-42bb-bf52-aabe314579ab_12\", \"run_number\": 17, \"metric\": null, \"status\": \"Completed\", \"run_type\": \"azureml.scriptrun\", \"training_percent\": \"100\", \"start_time\": \"2021-01-27T00:50:11.978125Z\", \"end_time\": \"2021-01-27T00:50:56.780505Z\", \"created_time\": \"2021-01-27T00:50:00.353333Z\", \"created_time_dt\": \"2021-01-27T00:50:00.353333Z\", \"duration\": \"0:00:56\", \"iteration\": \"12\", \"goal\": \"normalized_root_mean_squared_error_min\", \"run_name\": \"MaxAbsScaler, DecisionTree\", \"run_properties\": \"copy=True\", \"primary_metric\": 0.01889763, \"best_metric\": 0.01736279}, {\"run_id\": \"AutoML_c27f743e-39c2-42bb-bf52-aabe314579ab_13\", \"run_number\": 18, \"metric\": null, \"status\": \"Completed\", \"run_type\": \"azureml.scriptrun\", \"training_percent\": \"100\", \"start_time\": \"2021-01-27T00:51:12.340974Z\", \"end_time\": \"2021-01-27T00:51:51.389768Z\", \"created_time\": \"2021-01-27T00:50:59.811992Z\", \"created_time_dt\": \"2021-01-27T00:50:59.811992Z\", \"duration\": \"0:00:51\", \"iteration\": \"13\", \"goal\": \"normalized_root_mean_squared_error_min\", \"run_name\": \"StandardScalerWrapper, DecisionTree\", \"run_properties\": \"<azureml.automl.runtime.shared.model_wrappers.StandardScalerWrapper object at 0x7fc47a88c940\", \"primary_metric\": 0.02027091, \"best_metric\": 0.01736279}, {\"run_id\": \"AutoML_c27f743e-39c2-42bb-bf52-aabe314579ab_14\", \"run_number\": 19, \"metric\": null, \"status\": \"Completed\", \"run_type\": \"azureml.scriptrun\", \"training_percent\": \"100\", \"start_time\": \"2021-01-27T00:52:06.487804Z\", \"end_time\": \"2021-01-27T00:52:50.937437Z\", \"created_time\": \"2021-01-27T00:51:54.168941Z\", \"created_time_dt\": \"2021-01-27T00:51:54.168941Z\", \"duration\": \"0:00:56\", \"iteration\": \"14\", \"goal\": \"normalized_root_mean_squared_error_min\", \"run_name\": \"MaxAbsScaler, DecisionTree\", \"run_properties\": \"copy=True\", \"primary_metric\": 0.01855277, \"best_metric\": 0.01736279}, {\"run_id\": \"AutoML_c27f743e-39c2-42bb-bf52-aabe314579ab_15\", \"run_number\": 20, \"metric\": null, \"status\": \"Completed\", \"run_type\": \"azureml.scriptrun\", \"training_percent\": \"100\", \"start_time\": \"2021-01-27T00:53:04.476162Z\", \"end_time\": \"2021-01-27T00:54:06.431986Z\", \"created_time\": \"2021-01-27T00:52:52.803896Z\", \"created_time_dt\": \"2021-01-27T00:52:52.803896Z\", \"duration\": \"0:01:13\", \"iteration\": \"15\", \"goal\": \"normalized_root_mean_squared_error_min\", \"run_name\": \"VotingEnsemble\", \"run_properties\": \"estimators=[('1',\\n                                          Pipeline(memory=None,\\n                                                   steps=[('maxabsscaler',\\n                                                           MaxAbsScaler(copy=True\", \"primary_metric\": 0.01736279, \"best_metric\": 0.01736279}, {\"run_id\": \"AutoML_c27f743e-39c2-42bb-bf52-aabe314579ab_16\", \"run_number\": 21, \"metric\": null, \"status\": \"Completed\", \"run_type\": \"azureml.scriptrun\", \"training_percent\": \"100\", \"start_time\": \"2021-01-27T00:54:19.968496Z\", \"end_time\": \"2021-01-27T00:55:29.065396Z\", \"created_time\": \"2021-01-27T00:54:07.695329Z\", \"created_time_dt\": \"2021-01-27T00:54:07.695329Z\", \"duration\": \"0:01:21\", \"iteration\": \"16\", \"goal\": \"normalized_root_mean_squared_error_min\", \"run_name\": \"StackEnsemble\", \"run_properties\": \"base_learners=[('1',\\n                                       Pipeline(memory=None,\\n                                                steps=[('maxabsscaler',\\n                                                        MaxAbsScaler(copy=True\", \"primary_metric\": 0.01770127, \"best_metric\": 0.01736279}], \"children_metrics\": {\"categories\": [0], \"series\": {\"mean_absolute_error\": [{\"categories\": [\"0\", \"1\", \"2\", \"3\", \"4\", \"5\", \"6\", \"7\", \"8\", \"9\", \"10\", \"11\", \"12\", \"13\", \"14\", \"15\", \"16\"], \"mode\": \"markers\", \"name\": \"mean_absolute_error\", \"stepped\": false, \"type\": \"scatter\", \"data\": [0.49278949933985994, 0.4173755721073916, 0.4402323791991908, 0.4662604184007055, 0.4675336012247252, 0.4727049141950954, 0.4842697217044735, 0.48387261733675846, 0.46803871533829094, 0.4773910931474677, 0.480106207737699, 0.4903625590456975, 0.4686299181017154, 0.4722507482951137, 0.4645329395075688, 0.4173755721073916, 0.4291721981302306]}, {\"categories\": [\"0\", \"1\", \"2\", \"3\", \"4\", \"5\", \"6\", \"7\", \"8\", \"9\", \"10\", \"11\", \"12\", \"13\", \"14\", \"15\", \"16\"], \"mode\": \"lines\", \"name\": \"mean_absolute_error_min\", \"stepped\": true, \"type\": \"scatter\", \"data\": [0.49278949933985994, 0.4173755721073916, 0.4173755721073916, 0.4173755721073916, 0.4173755721073916, 0.4173755721073916, 0.4173755721073916, 0.4173755721073916, 0.4173755721073916, 0.4173755721073916, 0.4173755721073916, 0.4173755721073916, 0.4173755721073916, 0.4173755721073916, 0.4173755721073916, 0.4173755721073916, 0.4173755721073916]}], \"r2_score\": [{\"categories\": [\"0\", \"1\", \"2\", \"3\", \"4\", \"5\", \"6\", \"7\", \"8\", \"9\", \"10\", \"11\", \"12\", \"13\", \"14\", \"15\", \"16\"], \"mode\": \"markers\", \"name\": \"r2_score\", \"stepped\": false, \"type\": \"scatter\", \"data\": [-0.6580347342133229, 0.07104310150616386, -0.053186855912997655, -0.4199720283508023, -0.29065851668547893, -0.6474345602406792, -0.8061353529479, -0.7537213283787352, -0.417306410483225, -0.8061598856932836, -0.7238771128585901, -0.8080356155422933, -0.4573999289334904, -0.7067483129831663, -0.3280395567285881, 0.07104310150616386, -0.025958160658656127]}, {\"categories\": [\"0\", \"1\", \"2\", \"3\", \"4\", \"5\", \"6\", \"7\", \"8\", \"9\", \"10\", \"11\", \"12\", \"13\", \"14\", \"15\", \"16\"], \"mode\": \"lines\", \"name\": \"r2_score_max\", \"stepped\": true, \"type\": \"scatter\", \"data\": [-0.6580347342133229, 0.07104310150616386, 0.07104310150616386, 0.07104310150616386, 0.07104310150616386, 0.07104310150616386, 0.07104310150616386, 0.07104310150616386, 0.07104310150616386, 0.07104310150616386, 0.07104310150616386, 0.07104310150616386, 0.07104310150616386, 0.07104310150616386, 0.07104310150616386, 0.07104310150616386, 0.07104310150616386]}], \"normalized_median_absolute_error\": [{\"categories\": [\"0\", \"1\", \"2\", \"3\", \"4\", \"5\", \"6\", \"7\", \"8\", \"9\", \"10\", \"11\", \"12\", \"13\", \"14\", \"15\", \"16\"], \"mode\": \"markers\", \"name\": \"normalized_median_absolute_error\", \"stepped\": false, \"type\": \"scatter\", \"data\": [0.0045969053223515206, 0.004115319578614954, 0.004329453615384832, 0.004497047853212237, 0.004721477074675894, 0.004524745454174184, 0.0046135557545074505, 0.004622051498058752, 0.004503146910245464, 0.004551570005337129, 0.004313423000148238, 0.004719202898550725, 0.004585131136065306, 0.004616027797805016, 0.004471012749840819, 0.004115319578614954, 0.003668076784875251]}, {\"categories\": [\"0\", \"1\", \"2\", \"3\", \"4\", \"5\", \"6\", \"7\", \"8\", \"9\", \"10\", \"11\", \"12\", \"13\", \"14\", \"15\", \"16\"], \"mode\": \"lines\", \"name\": \"normalized_median_absolute_error_min\", \"stepped\": true, \"type\": \"scatter\", \"data\": [0.0045969053223515206, 0.004115319578614954, 0.004115319578614954, 0.004115319578614954, 0.004115319578614954, 0.004115319578614954, 0.004115319578614954, 0.004115319578614954, 0.004115319578614954, 0.004115319578614954, 0.004115319578614954, 0.004115319578614954, 0.004115319578614954, 0.004115319578614954, 0.004115319578614954, 0.004115319578614954, 0.003668076784875251]}], \"normalized_root_mean_squared_log_error\": [{\"categories\": [\"0\", \"1\", \"2\", \"3\", \"4\", \"5\", \"6\", \"7\", \"8\", \"9\", \"10\", \"11\", \"12\", \"13\", \"14\", \"15\", \"16\"], \"mode\": \"markers\", \"name\": \"normalized_root_mean_squared_log_error\", \"stepped\": false, \"type\": \"scatter\", \"data\": [0.04869737090759954, 0.03798930349294777, 0.03388752819520775, 0.04391477221738997, 0.037940783926677935, 0.04715401290133718, 0.04678043567940221, 0.04819674728680748, 0.04394895603136406, 0.04630465821645742, 0.048076405644858836, 0.04714506286429365, 0.04410408024206666, 0.047112652984366045, 0.043211774870397505, 0.0379893031652536, 0.03985078324457983]}, {\"categories\": [\"0\", \"1\", \"2\", \"3\", \"4\", \"5\", \"6\", \"7\", \"8\", \"9\", \"10\", \"11\", \"12\", \"13\", \"14\", \"15\", \"16\"], \"mode\": \"lines\", \"name\": \"normalized_root_mean_squared_log_error_min\", \"stepped\": true, \"type\": \"scatter\", \"data\": [0.04869737090759954, 0.03798930349294777, 0.03388752819520775, 0.03388752819520775, 0.03388752819520775, 0.03388752819520775, 0.03388752819520775, 0.03388752819520775, 0.03388752819520775, 0.03388752819520775, 0.03388752819520775, 0.03388752819520775, 0.03388752819520775, 0.03388752819520775, 0.03388752819520775, 0.03388752819520775, 0.03388752819520775]}], \"spearman_correlation\": [{\"categories\": [\"0\", \"1\", \"2\", \"3\", \"4\", \"5\", \"6\", \"7\", \"8\", \"9\", \"10\", \"11\", \"12\", \"13\", \"14\", \"15\", \"16\"], \"mode\": \"markers\", \"name\": \"spearman_correlation\", \"stepped\": false, \"type\": \"scatter\", \"data\": [0.1935679525249072, 0.3003159908974964, 0.07826943821743586, 0.12187174988811236, 0.2255071688014957, 0.15642661180228568, 0.2158582366885386, 0.1597885604124195, 0.11995929783103247, 0.23839955229799448, 0.1347229377771629, 0.21737699874790825, 0.11983282775870804, 0.14922177961745553, 0.09291435950430531, 0.3003159908974964, -0.2087795554555567]}, {\"categories\": [\"0\", \"1\", \"2\", \"3\", \"4\", \"5\", \"6\", \"7\", \"8\", \"9\", \"10\", \"11\", \"12\", \"13\", \"14\", \"15\", \"16\"], \"mode\": \"lines\", \"name\": \"spearman_correlation_max\", \"stepped\": true, \"type\": \"scatter\", \"data\": [0.1935679525249072, 0.3003159908974964, 0.3003159908974964, 0.3003159908974964, 0.3003159908974964, 0.3003159908974964, 0.3003159908974964, 0.3003159908974964, 0.3003159908974964, 0.3003159908974964, 0.3003159908974964, 0.3003159908974964, 0.3003159908974964, 0.3003159908974964, 0.3003159908974964, 0.3003159908974964, 0.3003159908974964]}], \"normalized_root_mean_squared_error\": [{\"categories\": [\"0\", \"1\", \"2\", \"3\", \"4\", \"5\", \"6\", \"7\", \"8\", \"9\", \"10\", \"11\", \"12\", \"13\", \"14\", \"15\", \"16\"], \"mode\": \"markers\", \"name\": \"normalized_root_mean_squared_error\", \"stepped\": false, \"type\": \"scatter\", \"data\": [0.0206770967368916, 0.017362788156530685, 0.019205597671633594, 0.01880114469853478, 0.020032657421624314, 0.020185320441632133, 0.021812919914909145, 0.020656843549293362, 0.018797091964427783, 0.021738224014222596, 0.020502715213597145, 0.02187665791951818, 0.018897631144050596, 0.020270908613349084, 0.018552771366711133, 0.017362788156530685, 0.01770127182500449]}, {\"categories\": [\"0\", \"1\", \"2\", \"3\", \"4\", \"5\", \"6\", \"7\", \"8\", \"9\", \"10\", \"11\", \"12\", \"13\", \"14\", \"15\", \"16\"], \"mode\": \"lines\", \"name\": \"normalized_root_mean_squared_error_min\", \"stepped\": true, \"type\": \"scatter\", \"data\": [0.0206770967368916, 0.017362788156530685, 0.017362788156530685, 0.017362788156530685, 0.017362788156530685, 0.017362788156530685, 0.017362788156530685, 0.017362788156530685, 0.017362788156530685, 0.017362788156530685, 0.017362788156530685, 0.017362788156530685, 0.017362788156530685, 0.017362788156530685, 0.017362788156530685, 0.017362788156530685, 0.017362788156530685]}], \"median_absolute_error\": [{\"categories\": [\"0\", \"1\", \"2\", \"3\", \"4\", \"5\", \"6\", \"7\", \"8\", \"9\", \"10\", \"11\", \"12\", \"13\", \"14\", \"15\", \"16\"], \"mode\": \"markers\", \"name\": \"median_absolute_error\", \"stepped\": false, \"type\": \"scatter\", \"data\": [0.33557408853166093, 0.3004183292388916, 0.31605011392309273, 0.3282844932844933, 0.3446678264513402, 0.3303064181547154, 0.33678957007904387, 0.3374097593582889, 0.32872972444791887, 0.3322646103896104, 0.3148798790108213, 0.34450181159420296, 0.3347145729327673, 0.3369700292397661, 0.32638393073837974, 0.3004183292388916, 0.26776960529589333]}, {\"categories\": [\"0\", \"1\", \"2\", \"3\", \"4\", \"5\", \"6\", \"7\", \"8\", \"9\", \"10\", \"11\", \"12\", \"13\", \"14\", \"15\", \"16\"], \"mode\": \"lines\", \"name\": \"median_absolute_error_min\", \"stepped\": true, \"type\": \"scatter\", \"data\": [0.33557408853166093, 0.3004183292388916, 0.3004183292388916, 0.3004183292388916, 0.3004183292388916, 0.3004183292388916, 0.3004183292388916, 0.3004183292388916, 0.3004183292388916, 0.3004183292388916, 0.3004183292388916, 0.3004183292388916, 0.3004183292388916, 0.3004183292388916, 0.3004183292388916, 0.3004183292388916, 0.26776960529589333]}], \"root_mean_squared_error\": [{\"categories\": [\"0\", \"1\", \"2\", \"3\", \"4\", \"5\", \"6\", \"7\", \"8\", \"9\", \"10\", \"11\", \"12\", \"13\", \"14\", \"15\", \"16\"], \"mode\": \"markers\", \"name\": \"root_mean_squared_error\", \"stepped\": false, \"type\": \"scatter\", \"data\": [1.5094280617930864, 1.26748353542674, 1.4020086300292522, 1.372483562993039, 1.4623839917785748, 1.4735283922391458, 1.5923431537883677, 1.5079495790984159, 1.3721877134032283, 1.5868903530382494, 1.496698210592592, 1.5969960281248272, 1.3795270735156935, 1.4797763287744832, 1.3543523097699126, 1.26748353542674, 1.2921928432253276]}, {\"categories\": [\"0\", \"1\", \"2\", \"3\", \"4\", \"5\", \"6\", \"7\", \"8\", \"9\", \"10\", \"11\", \"12\", \"13\", \"14\", \"15\", \"16\"], \"mode\": \"lines\", \"name\": \"root_mean_squared_error_min\", \"stepped\": true, \"type\": \"scatter\", \"data\": [1.5094280617930864, 1.26748353542674, 1.26748353542674, 1.26748353542674, 1.26748353542674, 1.26748353542674, 1.26748353542674, 1.26748353542674, 1.26748353542674, 1.26748353542674, 1.26748353542674, 1.26748353542674, 1.26748353542674, 1.26748353542674, 1.26748353542674, 1.26748353542674, 1.26748353542674]}], \"normalized_mean_absolute_error\": [{\"categories\": [\"0\", \"1\", \"2\", \"3\", \"4\", \"5\", \"6\", \"7\", \"8\", \"9\", \"10\", \"11\", \"12\", \"13\", \"14\", \"15\", \"16\"], \"mode\": \"markers\", \"name\": \"normalized_mean_absolute_error\", \"stepped\": false, \"type\": \"scatter\", \"data\": [0.006750541086847394, 0.005717473590512212, 0.006030580536975216, 0.006387129019187749, 0.006404569879790755, 0.006475409783494458, 0.00663383180417087, 0.00662839201831176, 0.006411489251209465, 0.006539604015718736, 0.00657679736626985, 0.006717295329393118, 0.006419587919201582, 0.006469188332809778, 0.006363464924761216, 0.005717473590512212, 0.005879071207263433]}, {\"categories\": [\"0\", \"1\", \"2\", \"3\", \"4\", \"5\", \"6\", \"7\", \"8\", \"9\", \"10\", \"11\", \"12\", \"13\", \"14\", \"15\", \"16\"], \"mode\": \"lines\", \"name\": \"normalized_mean_absolute_error_min\", \"stepped\": true, \"type\": \"scatter\", \"data\": [0.006750541086847394, 0.005717473590512212, 0.005717473590512212, 0.005717473590512212, 0.005717473590512212, 0.005717473590512212, 0.005717473590512212, 0.005717473590512212, 0.005717473590512212, 0.005717473590512212, 0.005717473590512212, 0.005717473590512212, 0.005717473590512212, 0.005717473590512212, 0.005717473590512212, 0.005717473590512212, 0.005717473590512212]}], \"root_mean_squared_log_error\": [{\"categories\": [\"0\", \"1\", \"2\", \"3\", \"4\", \"5\", \"6\", \"7\", \"8\", \"9\", \"10\", \"11\", \"12\", \"13\", \"14\", \"15\", \"16\"], \"mode\": \"markers\", \"name\": \"root_mean_squared_log_error\", \"stepped\": false, \"type\": \"scatter\", \"data\": [0.17649587470874542, 0.13768618766475257, 0.1228199555552821, 0.15916210650981974, 0.13751033621467057, 0.17090221911241196, 0.1695482478953254, 0.17468144402789393, 0.15928600030605128, 0.16782386816138697, 0.17424528488903784, 0.17086978112680343, 0.15984822333259635, 0.17075231667234897, 0.15661420444934113, 0.13768618647707717, 0.14443282492449935]}, {\"categories\": [\"0\", \"1\", \"2\", \"3\", \"4\", \"5\", \"6\", \"7\", \"8\", \"9\", \"10\", \"11\", \"12\", \"13\", \"14\", \"15\", \"16\"], \"mode\": \"lines\", \"name\": \"root_mean_squared_log_error_min\", \"stepped\": true, \"type\": \"scatter\", \"data\": [0.17649587470874542, 0.13768618766475257, 0.1228199555552821, 0.1228199555552821, 0.1228199555552821, 0.1228199555552821, 0.1228199555552821, 0.1228199555552821, 0.1228199555552821, 0.1228199555552821, 0.1228199555552821, 0.1228199555552821, 0.1228199555552821, 0.1228199555552821, 0.1228199555552821, 0.1228199555552821, 0.1228199555552821]}], \"explained_variance\": [{\"categories\": [\"0\", \"1\", \"2\", \"3\", \"4\", \"5\", \"6\", \"7\", \"8\", \"9\", \"10\", \"11\", \"12\", \"13\", \"14\", \"15\", \"16\"], \"mode\": \"markers\", \"name\": \"explained_variance\", \"stepped\": false, \"type\": \"scatter\", \"data\": [-1.2590600953324436, 0.0734752329113741, -0.05148072458589288, -0.40311127135655944, -0.2851171600785821, -0.9771077662489258, -1.7661197907587443, -1.1813415236725788, -0.40082098100369346, -1.7266141466806353, -1.1153611001334884, -1.7725514210728952, -0.4401747165119879, -0.996818188952853, -0.31127961862569836, 0.0734752329113741, -0.0036976235499975862]}, {\"categories\": [\"0\", \"1\", \"2\", \"3\", \"4\", \"5\", \"6\", \"7\", \"8\", \"9\", \"10\", \"11\", \"12\", \"13\", \"14\", \"15\", \"16\"], \"mode\": \"lines\", \"name\": \"explained_variance_max\", \"stepped\": true, \"type\": \"scatter\", \"data\": [-1.2590600953324436, 0.0734752329113741, 0.0734752329113741, 0.0734752329113741, 0.0734752329113741, 0.0734752329113741, 0.0734752329113741, 0.0734752329113741, 0.0734752329113741, 0.0734752329113741, 0.0734752329113741, 0.0734752329113741, 0.0734752329113741, 0.0734752329113741, 0.0734752329113741, 0.0734752329113741, 0.0734752329113741]}], \"mean_absolute_percentage_error\": [{\"categories\": [\"0\", \"1\", \"2\", \"3\", \"4\", \"5\", \"6\", \"7\", \"8\", \"9\", \"10\", \"11\", \"12\", \"13\", \"14\", \"15\", \"16\"], \"mode\": \"markers\", \"name\": \"mean_absolute_percentage_error\", \"stepped\": false, \"type\": \"scatter\", \"data\": [15.642869734775463, 12.509290122708006, 13.11687371522051, 14.51929084186465, 13.95012299154008, 15.06206208159556, 14.582688015029936, 15.337671365540817, 14.582848480310378, 14.36579157792606, 15.309774049519143, 14.726400660754303, 14.609550897522604, 15.050009094484347, 14.431851202219843, 12.509290122708006, 13.184936296785898]}, {\"categories\": [\"0\", \"1\", \"2\", \"3\", \"4\", \"5\", \"6\", \"7\", \"8\", \"9\", \"10\", \"11\", \"12\", \"13\", \"14\", \"15\", \"16\"], \"mode\": \"lines\", \"name\": \"mean_absolute_percentage_error_min\", \"stepped\": true, \"type\": \"scatter\", \"data\": [15.642869734775463, 12.509290122708006, 12.509290122708006, 12.509290122708006, 12.509290122708006, 12.509290122708006, 12.509290122708006, 12.509290122708006, 12.509290122708006, 12.509290122708006, 12.509290122708006, 12.509290122708006, 12.509290122708006, 12.509290122708006, 12.509290122708006, 12.509290122708006, 12.509290122708006]}]}, \"metricName\": null, \"primaryMetricName\": \"normalized_root_mean_squared_error\", \"showLegend\": false}, \"run_metrics\": [{\"name\": \"experiment_status\", \"run_id\": \"AutoML_c27f743e-39c2-42bb-bf52-aabe314579ab\", \"categories\": [0, 1, 2, 3, 4, 5, 6, 7, 8, 9, 10, 11, 12, 13], \"series\": [{\"data\": [\"DatasetEvaluation\", \"FeaturesGeneration\", \"DatasetFeaturization\", \"DatasetFeaturizationCompleted\", \"DatasetCrossValidationSplit\", \"ModelSelection\", \"BestRunExplainModel\", \"ModelExplanationDataSetSetup\", \"PickSurrogateModel\", \"EngineeredFeatureExplanations\", \"EngineeredFeatureExplanations\", \"RawFeaturesExplanations\", \"RawFeaturesExplanations\", \"BestRunExplainModel\"]}]}, {\"name\": \"experiment_status_description\", \"run_id\": \"AutoML_c27f743e-39c2-42bb-bf52-aabe314579ab\", \"categories\": [0, 1, 2, 3, 4, 5, 6, 7, 8, 9, 10, 11, 12, 13], \"series\": [{\"data\": [\"Gathering dataset statistics.\", \"Generating features for the dataset.\", \"Beginning to fit featurizers and featurize the dataset.\", \"Completed fit featurizers and featurizing the dataset.\", \"Generating individually featurized CV splits.\", \"Beginning model selection.\", \"Best run model explanations started\", \"Model explanations data setup completed\", \"Choosing LightGBM as the surrogate model for explanations\", \"Computation of engineered features started\", \"Computation of engineered features completed\", \"Computation of raw features started\", \"Computation of raw features completed\", \"Best run model explanations completed\"]}]}, {\"name\": \"median_absolute_error\", \"run_id\": \"AutoML_c27f743e-39c2-42bb-bf52-aabe314579ab\", \"categories\": [0], \"series\": [{\"data\": [0.3004183292388916]}]}, {\"name\": \"normalized_root_mean_squared_error\", \"run_id\": \"AutoML_c27f743e-39c2-42bb-bf52-aabe314579ab\", \"categories\": [0], \"series\": [{\"data\": [0.017362788156530685]}]}, {\"name\": \"r2_score\", \"run_id\": \"AutoML_c27f743e-39c2-42bb-bf52-aabe314579ab\", \"categories\": [0], \"series\": [{\"data\": [0.07104310150616386]}]}, {\"name\": \"spearman_correlation\", \"run_id\": \"AutoML_c27f743e-39c2-42bb-bf52-aabe314579ab\", \"categories\": [0], \"series\": [{\"data\": [0.3003159908974964]}]}, {\"name\": \"mean_absolute_percentage_error\", \"run_id\": \"AutoML_c27f743e-39c2-42bb-bf52-aabe314579ab\", \"categories\": [0], \"series\": [{\"data\": [12.509290122708006]}]}, {\"name\": \"explained_variance\", \"run_id\": \"AutoML_c27f743e-39c2-42bb-bf52-aabe314579ab\", \"categories\": [0], \"series\": [{\"data\": [0.0734752329113741]}]}, {\"name\": \"normalized_mean_absolute_error\", \"run_id\": \"AutoML_c27f743e-39c2-42bb-bf52-aabe314579ab\", \"categories\": [0], \"series\": [{\"data\": [0.005717473590512212]}]}, {\"name\": \"normalized_root_mean_squared_log_error\", \"run_id\": \"AutoML_c27f743e-39c2-42bb-bf52-aabe314579ab\", \"categories\": [0], \"series\": [{\"data\": [0.0379893031652536]}]}, {\"name\": \"normalized_median_absolute_error\", \"run_id\": \"AutoML_c27f743e-39c2-42bb-bf52-aabe314579ab\", \"categories\": [0], \"series\": [{\"data\": [0.004115319578614954]}]}, {\"name\": \"mean_absolute_error\", \"run_id\": \"AutoML_c27f743e-39c2-42bb-bf52-aabe314579ab\", \"categories\": [0], \"series\": [{\"data\": [0.4173755721073916]}]}, {\"name\": \"root_mean_squared_error\", \"run_id\": \"AutoML_c27f743e-39c2-42bb-bf52-aabe314579ab\", \"categories\": [0], \"series\": [{\"data\": [1.26748353542674]}]}, {\"name\": \"root_mean_squared_log_error\", \"run_id\": \"AutoML_c27f743e-39c2-42bb-bf52-aabe314579ab\", \"categories\": [0], \"series\": [{\"data\": [0.13768618647707717]}]}], \"run_logs\": \"\\nRun is completed.\", \"graph\": {}, \"widget_settings\": {\"childWidgetDisplay\": \"popup\", \"send_telemetry\": false, \"log_level\": \"INFO\", \"sdk_version\": \"1.20.0\"}, \"loading\": false}"
          },
          "metadata": {}
        }
      ],
      "execution_count": 21,
      "metadata": {
        "collapsed": true,
        "jupyter": {
          "source_hidden": false,
          "outputs_hidden": false
        },
        "nteract": {
          "transient": {
            "deleting": false
          }
        },
        "gather": {
          "logged": 1611709520200
        }
      }
    },
    {
      "cell_type": "markdown",
      "source": [
        "### Wyświetlanie informacji o modelu - funkcji, która najlepiej dopasowuje się do danych"
      ],
      "metadata": {
        "nteract": {
          "transient": {
            "deleting": false
          }
        }
      }
    },
    {
      "cell_type": "code",
      "source": [
        "# Pobieranie i wyświetlanie wyniku i informacji o utworzonym modelu\n",
        "best_run, fitted_model = run.get_output()\n",
        "print(best_run)\n",
        "print(fitted_model)"
      ],
      "outputs": [
        {
          "output_type": "stream",
          "name": "stdout",
          "text": [
            "Run(Experiment: classif-automl-remote-01-27-2021-00,\n",
            "Id: AutoML_c27f743e-39c2-42bb-bf52-aabe314579ab_15,\n",
            "Type: azureml.scriptrun,\n",
            "Status: Completed)\n",
            "RegressionPipeline(pipeline=Pipeline(memory=None,\n",
            "                                     steps=[('datatransformer',\n",
            "                                             DataTransformer(enable_dnn=None,\n",
            "                                                             enable_feature_sweeping=None,\n",
            "                                                             feature_sweeping_config=None,\n",
            "                                                             feature_sweeping_timeout=None,\n",
            "                                                             featurization_config=None,\n",
            "                                                             force_text_dnn=None,\n",
            "                                                             is_cross_validation=None,\n",
            "                                                             is_onnx_compatible=None,\n",
            "                                                             logger=None,\n",
            "                                                             observer=None,\n",
            "                                                             task=None,\n",
            "                                                             working_dir=None)),\n",
            "                                            ('pre...\n",
            "                                                                                                                         importance_type='gain',\n",
            "                                                                                                                         learning_rate=0.1,\n",
            "                                                                                                                         max_delta_step=0,\n",
            "                                                                                                                         max_depth=3,\n",
            "                                                                                                                         min_child_weight=1,\n",
            "                                                                                                                         missing=nan,\n",
            "                                                                                                                         n_estimators=100,\n",
            "                                                                                                                         n_jobs=1,\n",
            "                                                                                                                         nthread=None,\n",
            "                                                                                                                         objective='reg:squarederror',\n",
            "                                                                                                                         random_state=0,\n",
            "                                                                                                                         reg_alpha=0,\n",
            "                                                                                                                         reg_lambda=1,\n",
            "                                                                                                                         scale_pos_weight=1,\n",
            "                                                                                                                         seed=None,\n",
            "                                                                                                                         silent=None,\n",
            "                                                                                                                         subsample=1,\n",
            "                                                                                                                         tree_method='auto',\n",
            "                                                                                                                         verbose=-10,\n",
            "                                                                                                                         verbosity=0))],\n",
            "                                                                                                verbose=False))],\n",
            "                                                                          weights=[1.0]))],\n",
            "                                     verbose=False),\n",
            "                   stddev=None)\n"
          ]
        }
      ],
      "execution_count": 22,
      "metadata": {
        "collapsed": true,
        "jupyter": {
          "source_hidden": false,
          "outputs_hidden": false
        },
        "nteract": {
          "transient": {
            "deleting": false
          }
        },
        "gather": {
          "logged": 1611709542400
        }
      }
    },
    {
      "cell_type": "markdown",
      "source": [
        "### Sprawdzanie poprawności stworzonego modelu\n",
        "\n",
        "Po utworzeniu modelu, należy sprwadzić jak dobrze model potrafi przewidzieć wartości z danych, które wcześniej zostały oddzielone od danych treningowych. Jak poprzednio wspomniano, funkcja zwraca wartości, które nie są zaokrąglone do najbliższej wartości 0.25, dlatego sstworzona została funkcja która to robi."
      ],
      "metadata": {
        "nteract": {
          "transient": {
            "deleting": false
          }
        }
      }
    },
    {
      "cell_type": "code",
      "source": [
        "test_dataset_df = test_dataset.to_pandas_dataframe()\n",
        "\n",
        "# Pobierani wartości wejściowych i wyjściowych z danych testowych\n",
        "if 'Rating' in test_dataset_df.columns:\n",
        "    y_test_df = test_dataset_df.pop('Rating')\n",
        "\n",
        "x_test_df = test_dataset_df"
      ],
      "outputs": [],
      "execution_count": 76,
      "metadata": {
        "collapsed": true,
        "jupyter": {
          "source_hidden": false,
          "outputs_hidden": false
        },
        "nteract": {
          "transient": {
            "deleting": false
          }
        },
        "gather": {
          "logged": 1611710941000
        }
      }
    },
    {
      "cell_type": "code",
      "source": [
        "# Przewidywanie wartości testowych\n",
        "y_predictions = fitted_model.predict(x_test_df)\n",
        "\n",
        "print('10 predykcji bez zaokrąglania:')\n",
        "print(y_predictions[15:25])\n",
        "\n",
        "# Aby zwiększyć precyzję modelu, a wyniki bardziej odpowiadały wartościom,\n",
        "# które powinny być tam stworzone wyżej stworzyłem funkcję, która zaokrągla wynik\n",
        "# do najlbliższej wartości 0.25.\n",
        "def roundToNearest25(a):\n",
        "    return (a * 4).round() / 4\n",
        "\n",
        "print('10 predykcji po zaokrągleniu:')\n",
        "print(roundToNearest25(y_predictions[15:25]))"
      ],
      "outputs": [
        {
          "output_type": "stream",
          "name": "stdout",
          "text": [
            "10 predykcji bez zaokrąglania:\n",
            "[3.06514215 3.06514215 3.10084701 3.06514215 2.93975115 3.21346474\n",
            " 3.13048649 3.17015243 3.70869875 3.79058003]\n",
            "10 predykcji po zaokrągleniu:\n",
            "[3.   3.   3.   3.   3.   3.25 3.25 3.25 3.75 3.75]\n"
          ]
        }
      ],
      "execution_count": 77,
      "metadata": {
        "collapsed": true,
        "jupyter": {
          "source_hidden": false,
          "outputs_hidden": false
        },
        "nteract": {
          "transient": {
            "deleting": false
          }
        },
        "gather": {
          "logged": 1611710942900
        }
      }
    },
    {
      "cell_type": "code",
      "source": [
        "print('Precyzja (accuracy) modelu bez zaokrąglania:')\n",
        "print(fitted_model.score(x_test_df, y_test_df))\n",
        "\n",
        "print('Precyzja (accuracy) modelu z zaokrąglaniem:')\n",
        "print(fitted_model.score(x_test_df, roundToNearest25(y_predictions)))"
      ],
      "outputs": [
        {
          "output_type": "stream",
          "name": "stdout",
          "text": [
            "Precyzja (accuracy) modelu bez zaokrąglania:\n",
            "0.1570196313983816\n",
            "Precyzja (accuracy) modelu z zaokrąglaniem:\n",
            "0.8669471902873664\n"
          ]
        }
      ],
      "execution_count": 80,
      "metadata": {
        "collapsed": true,
        "jupyter": {
          "source_hidden": false,
          "outputs_hidden": false
        },
        "nteract": {
          "transient": {
            "deleting": false
          }
        },
        "gather": {
          "logged": 1611710985500
        }
      }
    },
    {
      "cell_type": "markdown",
      "source": [
        "### Wnioski\n",
        "\n",
        "Taki wynik sprawia, że model nie działa świetnie, ale wyniki przez niego zwracane są bliższe wartościom faktycznym, niż gdyby użyta została funkcja losująca wynik."
      ],
      "metadata": {
        "nteract": {
          "transient": {
            "deleting": false
          }
        }
      }
    }
  ],
  "metadata": {
    "kernelspec": {
      "name": "python3-azureml",
      "language": "python",
      "display_name": "Python 3.6 - AzureML"
    },
    "language_info": {
      "name": "python",
      "version": "3.6.9",
      "mimetype": "text/x-python",
      "codemirror_mode": {
        "name": "ipython",
        "version": 3
      },
      "pygments_lexer": "ipython3",
      "nbconvert_exporter": "python",
      "file_extension": ".py"
    },
    "kernel_info": {
      "name": "python3-azureml"
    },
    "nteract": {
      "version": "nteract-front-end@1.0.0"
    }
  },
  "nbformat": 4,
  "nbformat_minor": 2
}